{
 "cells": [
  {
   "cell_type": "markdown",
   "metadata": {
    "colab_type": "text",
    "id": "8-C3JS1rufN6"
   },
   "source": [
    "**Packages Requirement**\n",
    "\n",
    "*   Keras\n",
    "*   Tensorflow\n",
    "* Numpy\n",
    "* Pandas\n",
    "* Gensim\n",
    "* sklearn\n",
    "\n"
   ]
  },
  {
   "cell_type": "markdown",
   "metadata": {
    "colab_type": "text",
    "id": "uNYC3-Mzuw8h"
   },
   "source": [
    "#### Load the dataset from kaggle or from google drive mounted on colab"
   ]
  },
  {
   "cell_type": "markdown",
   "metadata": {
    "colab_type": "text",
    "id": "7wObU1uzvFDt"
   },
   "source": [
    "Dataset: https://www.kaggle.com/c/quora-question-pairs/data"
   ]
  },
  {
   "cell_type": "code",
   "execution_count": 1,
   "metadata": {
    "colab": {
     "base_uri": "https://localhost:8080/",
     "height": 122
    },
    "colab_type": "code",
    "id": "5PgoWq14KlI6",
    "outputId": "149ee1d6-ca73-42ba-9d75-d402db89f72e"
   },
   "outputs": [
    {
     "name": "stdout",
     "output_type": "stream",
     "text": [
      "Go to this URL in a browser: https://accounts.google.com/o/oauth2/auth?client_id=947318989803-6bn6qk8qdgf4n4g3pfee6491hc0brc4i.apps.googleusercontent.com&redirect_uri=urn%3Aietf%3Awg%3Aoauth%3A2.0%3Aoob&scope=email%20https%3A%2F%2Fwww.googleapis.com%2Fauth%2Fdocs.test%20https%3A%2F%2Fwww.googleapis.com%2Fauth%2Fdrive%20https%3A%2F%2Fwww.googleapis.com%2Fauth%2Fdrive.photos.readonly%20https%3A%2F%2Fwww.googleapis.com%2Fauth%2Fpeopleapi.readonly&response_type=code\n",
      "\n",
      "Enter your authorization code:\n",
      "··········\n",
      "Mounted at /content/gdrive\n"
     ]
    }
   ],
   "source": [
    "from google.colab import drive\n",
    "drive.mount('/content/gdrive')"
   ]
  },
  {
   "cell_type": "code",
   "execution_count": 0,
   "metadata": {
    "colab": {},
    "colab_type": "code",
    "id": "uNM8BxZrMrAV"
   },
   "outputs": [],
   "source": [
    "!cp /content/gdrive/My\\ Drive/MS-CS/DS/train.csv ."
   ]
  },
  {
   "cell_type": "code",
   "execution_count": 0,
   "metadata": {
    "colab": {},
    "colab_type": "code",
    "id": "27PgOz9kMsNA"
   },
   "outputs": [],
   "source": [
    "!cp /content/gdrive/My\\ Drive/MS-CS/DS/test.csv ."
   ]
  },
  {
   "cell_type": "code",
   "execution_count": 0,
   "metadata": {
    "colab": {},
    "colab_type": "code",
    "id": "akvaJSLOTifG"
   },
   "outputs": [],
   "source": [
    "!cp /content/gdrive/My\\ Drive/MS-CS/SMDM/LSWList.txt ."
   ]
  },
  {
   "cell_type": "code",
   "execution_count": 7,
   "metadata": {
    "colab": {
     "base_uri": "https://localhost:8080/",
     "height": 170
    },
    "colab_type": "code",
    "id": "K85xy7mTMyRD",
    "outputId": "fcb24c09-38b8-4d7e-db9e-45c52e5b43dc"
   },
   "outputs": [
    {
     "name": "stdout",
     "output_type": "stream",
     "text": [
      "total 528348\n",
      "drwxr-xr-x 1 root root      4096 Dec  8 02:33 .\n",
      "drwxr-xr-x 1 root root      4096 Dec  8 02:31 ..\n",
      "drwxr-xr-x 1 root root      4096 Dec  5 17:39 .config\n",
      "drwx------ 3 root root      4096 Dec  8 02:33 gdrive\n",
      "-rw------- 1 root root      4171 Dec  8 02:33 LSWList.txt\n",
      "drwxr-xr-x 2 root root      4096 Dec  5 17:39 sample_data\n",
      "-rw------- 1 root root 477592983 Dec  8 02:33 test.csv\n",
      "-rw------- 1 root root  63399110 Dec  8 02:33 train.csv\n"
     ]
    }
   ],
   "source": [
    "!ls -la ."
   ]
  },
  {
   "cell_type": "code",
   "execution_count": 8,
   "metadata": {
    "colab": {
     "base_uri": "https://localhost:8080/",
     "height": 734
    },
    "colab_type": "code",
    "id": "kGWeSGBKbAc5",
    "outputId": "91777496-969d-476c-f1db-981ffa313ab9"
   },
   "outputs": [
    {
     "name": "stdout",
     "output_type": "stream",
     "text": [
      "Collecting gensim\n",
      "\u001b[?25l  Downloading https://files.pythonhosted.org/packages/27/a4/d10c0acc8528d838cda5eede0ee9c784caa598dbf40bd0911ff8d067a7eb/gensim-3.6.0-cp36-cp36m-manylinux1_x86_64.whl (23.6MB)\n",
      "\u001b[K    100% |████████████████████████████████| 23.6MB 1.8MB/s \n",
      "\u001b[?25hCollecting smart-open>=1.2.1 (from gensim)\n",
      "  Downloading https://files.pythonhosted.org/packages/4b/1f/6f27e3682124de63ac97a0a5876da6186de6c19410feab66c1543afab055/smart_open-1.7.1.tar.gz\n",
      "Requirement already satisfied: scipy>=0.18.1 in /usr/local/lib/python3.6/dist-packages (from gensim) (1.1.0)\n",
      "Requirement already satisfied: numpy>=1.11.3 in /usr/local/lib/python3.6/dist-packages (from gensim) (1.14.6)\n",
      "Requirement already satisfied: six>=1.5.0 in /usr/local/lib/python3.6/dist-packages (from gensim) (1.11.0)\n",
      "Collecting boto>=2.32 (from smart-open>=1.2.1->gensim)\n",
      "\u001b[?25l  Downloading https://files.pythonhosted.org/packages/23/10/c0b78c27298029e4454a472a1919bde20cb182dab1662cec7f2ca1dcc523/boto-2.49.0-py2.py3-none-any.whl (1.4MB)\n",
      "\u001b[K    100% |████████████████████████████████| 1.4MB 10.1MB/s \n",
      "\u001b[?25hCollecting bz2file (from smart-open>=1.2.1->gensim)\n",
      "  Downloading https://files.pythonhosted.org/packages/61/39/122222b5e85cd41c391b68a99ee296584b2a2d1d233e7ee32b4532384f2d/bz2file-0.98.tar.gz\n",
      "Requirement already satisfied: requests in /usr/local/lib/python3.6/dist-packages (from smart-open>=1.2.1->gensim) (2.18.4)\n",
      "Collecting boto3 (from smart-open>=1.2.1->gensim)\n",
      "\u001b[?25l  Downloading https://files.pythonhosted.org/packages/9c/b9/7df67f1775d240ac8d111211f967fa75ecc9968ae79ffa0594e36345445f/boto3-1.9.62-py2.py3-none-any.whl (128kB)\n",
      "\u001b[K    100% |████████████████████████████████| 133kB 26.8MB/s \n",
      "\u001b[?25hRequirement already satisfied: idna<2.7,>=2.5 in /usr/local/lib/python3.6/dist-packages (from requests->smart-open>=1.2.1->gensim) (2.6)\n",
      "Requirement already satisfied: chardet<3.1.0,>=3.0.2 in /usr/local/lib/python3.6/dist-packages (from requests->smart-open>=1.2.1->gensim) (3.0.4)\n",
      "Requirement already satisfied: urllib3<1.23,>=1.21.1 in /usr/local/lib/python3.6/dist-packages (from requests->smart-open>=1.2.1->gensim) (1.22)\n",
      "Requirement already satisfied: certifi>=2017.4.17 in /usr/local/lib/python3.6/dist-packages (from requests->smart-open>=1.2.1->gensim) (2018.11.29)\n",
      "Collecting s3transfer<0.2.0,>=0.1.10 (from boto3->smart-open>=1.2.1->gensim)\n",
      "\u001b[?25l  Downloading https://files.pythonhosted.org/packages/d7/14/2a0004d487464d120c9fb85313a75cd3d71a7506955be458eebfe19a6b1d/s3transfer-0.1.13-py2.py3-none-any.whl (59kB)\n",
      "\u001b[K    100% |████████████████████████████████| 61kB 23.0MB/s \n",
      "\u001b[?25hCollecting jmespath<1.0.0,>=0.7.1 (from boto3->smart-open>=1.2.1->gensim)\n",
      "  Downloading https://files.pythonhosted.org/packages/b7/31/05c8d001f7f87f0f07289a5fc0fc3832e9a57f2dbd4d3b0fee70e0d51365/jmespath-0.9.3-py2.py3-none-any.whl\n",
      "Collecting botocore<1.13.0,>=1.12.62 (from boto3->smart-open>=1.2.1->gensim)\n",
      "\u001b[?25l  Downloading https://files.pythonhosted.org/packages/e2/77/35e82076e3beb506280f94213a258819378115f174e516ce69b3a2336e1c/botocore-1.12.62-py2.py3-none-any.whl (5.1MB)\n",
      "\u001b[K    100% |████████████████████████████████| 5.1MB 8.1MB/s \n",
      "\u001b[?25hCollecting docutils>=0.10 (from botocore<1.13.0,>=1.12.62->boto3->smart-open>=1.2.1->gensim)\n",
      "\u001b[?25l  Downloading https://files.pythonhosted.org/packages/36/fa/08e9e6e0e3cbd1d362c3bbee8d01d0aedb2155c4ac112b19ef3cae8eed8d/docutils-0.14-py3-none-any.whl (543kB)\n",
      "\u001b[K    100% |████████████████████████████████| 552kB 24.7MB/s \n",
      "\u001b[?25hRequirement already satisfied: python-dateutil<3.0.0,>=2.1; python_version >= \"2.7\" in /usr/local/lib/python3.6/dist-packages (from botocore<1.13.0,>=1.12.62->boto3->smart-open>=1.2.1->gensim) (2.5.3)\n",
      "Building wheels for collected packages: smart-open, bz2file\n",
      "  Running setup.py bdist_wheel for smart-open ... \u001b[?25l-\b \bdone\n",
      "\u001b[?25h  Stored in directory: /root/.cache/pip/wheels/23/00/44/e5b939f7a80c04e32297dbd6d96fa3065af89ecf57e2b5f89f\n",
      "  Running setup.py bdist_wheel for bz2file ... \u001b[?25l-\b \bdone\n",
      "\u001b[?25h  Stored in directory: /root/.cache/pip/wheels/81/75/d6/e1317bf09bf1af5a30befc2a007869fa6e1f516b8f7c591cb9\n",
      "Successfully built smart-open bz2file\n",
      "Installing collected packages: boto, bz2file, docutils, jmespath, botocore, s3transfer, boto3, smart-open, gensim\n",
      "Successfully installed boto-2.49.0 boto3-1.9.62 botocore-1.12.62 bz2file-0.98 docutils-0.14 gensim-3.6.0 jmespath-0.9.3 s3transfer-0.1.13 smart-open-1.7.1\n"
     ]
    }
   ],
   "source": [
    "!pip install gensim"
   ]
  },
  {
   "cell_type": "markdown",
   "metadata": {
    "colab_type": "text",
    "id": "oJjkVvzBSfQU"
   },
   "source": [
    "# Data Pre-Processing"
   ]
  },
  {
   "cell_type": "markdown",
   "metadata": {
    "colab_type": "text",
    "id": "mY8vrX_q3q1q"
   },
   "source": [
    "#### Import required libraries"
   ]
  },
  {
   "cell_type": "code",
   "execution_count": 0,
   "metadata": {
    "colab": {},
    "colab_type": "code",
    "id": "SjD2UWuDN2z4"
   },
   "outputs": [],
   "source": [
    "import numpy as np\n",
    "import pandas as pd\n",
    "import re\n",
    "import nltk\n",
    "import pickle\n",
    "\n",
    "from sklearn.metrics import accuracy_score\n",
    "from sklearn.metrics import confusion_matrix\n",
    "\n",
    "import matplotlib.pyplot as plt"
   ]
  },
  {
   "cell_type": "markdown",
   "metadata": {
    "colab_type": "text",
    "id": "Zm5k7Zmn3vHd"
   },
   "source": [
    "#### Load dataset"
   ]
  },
  {
   "cell_type": "code",
   "execution_count": 0,
   "metadata": {
    "colab": {},
    "colab_type": "code",
    "id": "IfICSIXcODk-"
   },
   "outputs": [],
   "source": [
    "df_train = pd.read_csv('train.csv', encoding='utf-8', low_memory=False)"
   ]
  },
  {
   "cell_type": "code",
   "execution_count": 134,
   "metadata": {
    "colab": {
     "base_uri": "https://localhost:8080/",
     "height": 204
    },
    "colab_type": "code",
    "id": "T4HvA8wAQgDd",
    "outputId": "6de7f11e-58ca-4925-8e93-2d991bc1326d"
   },
   "outputs": [
    {
     "data": {
      "text/html": [
       "<div>\n",
       "<style scoped>\n",
       "    .dataframe tbody tr th:only-of-type {\n",
       "        vertical-align: middle;\n",
       "    }\n",
       "\n",
       "    .dataframe tbody tr th {\n",
       "        vertical-align: top;\n",
       "    }\n",
       "\n",
       "    .dataframe thead th {\n",
       "        text-align: right;\n",
       "    }\n",
       "</style>\n",
       "<table border=\"1\" class=\"dataframe\">\n",
       "  <thead>\n",
       "    <tr style=\"text-align: right;\">\n",
       "      <th></th>\n",
       "      <th>id</th>\n",
       "      <th>qid1</th>\n",
       "      <th>qid2</th>\n",
       "      <th>question1</th>\n",
       "      <th>question2</th>\n",
       "      <th>is_duplicate</th>\n",
       "    </tr>\n",
       "  </thead>\n",
       "  <tbody>\n",
       "    <tr>\n",
       "      <th>0</th>\n",
       "      <td>0</td>\n",
       "      <td>1</td>\n",
       "      <td>2</td>\n",
       "      <td>What is the step by step guide to invest in sh...</td>\n",
       "      <td>What is the step by step guide to invest in sh...</td>\n",
       "      <td>0</td>\n",
       "    </tr>\n",
       "    <tr>\n",
       "      <th>1</th>\n",
       "      <td>1</td>\n",
       "      <td>3</td>\n",
       "      <td>4</td>\n",
       "      <td>What is the story of Kohinoor (Koh-i-Noor) Dia...</td>\n",
       "      <td>What would happen if the Indian government sto...</td>\n",
       "      <td>0</td>\n",
       "    </tr>\n",
       "    <tr>\n",
       "      <th>2</th>\n",
       "      <td>2</td>\n",
       "      <td>5</td>\n",
       "      <td>6</td>\n",
       "      <td>How can I increase the speed of my internet co...</td>\n",
       "      <td>How can Internet speed be increased by hacking...</td>\n",
       "      <td>0</td>\n",
       "    </tr>\n",
       "    <tr>\n",
       "      <th>3</th>\n",
       "      <td>3</td>\n",
       "      <td>7</td>\n",
       "      <td>8</td>\n",
       "      <td>Why am I mentally very lonely? How can I solve...</td>\n",
       "      <td>Find the remainder when [math]23^{24}[/math] i...</td>\n",
       "      <td>0</td>\n",
       "    </tr>\n",
       "    <tr>\n",
       "      <th>4</th>\n",
       "      <td>4</td>\n",
       "      <td>9</td>\n",
       "      <td>10</td>\n",
       "      <td>Which one dissolve in water quikly sugar, salt...</td>\n",
       "      <td>Which fish would survive in salt water?</td>\n",
       "      <td>0</td>\n",
       "    </tr>\n",
       "  </tbody>\n",
       "</table>\n",
       "</div>"
      ],
      "text/plain": [
       "   id  qid1  qid2                                          question1  \\\n",
       "0   0     1     2  What is the step by step guide to invest in sh...   \n",
       "1   1     3     4  What is the story of Kohinoor (Koh-i-Noor) Dia...   \n",
       "2   2     5     6  How can I increase the speed of my internet co...   \n",
       "3   3     7     8  Why am I mentally very lonely? How can I solve...   \n",
       "4   4     9    10  Which one dissolve in water quikly sugar, salt...   \n",
       "\n",
       "                                           question2  is_duplicate  \n",
       "0  What is the step by step guide to invest in sh...             0  \n",
       "1  What would happen if the Indian government sto...             0  \n",
       "2  How can Internet speed be increased by hacking...             0  \n",
       "3  Find the remainder when [math]23^{24}[/math] i...             0  \n",
       "4            Which fish would survive in salt water?             0  "
      ]
     },
     "execution_count": 134,
     "metadata": {
      "tags": []
     },
     "output_type": "execute_result"
    }
   ],
   "source": [
    "df_train.head()"
   ]
  },
  {
   "cell_type": "code",
   "execution_count": 231,
   "metadata": {
    "colab": {
     "base_uri": "https://localhost:8080/",
     "height": 204
    },
    "colab_type": "code",
    "id": "oAUQ3Qz1tTL9",
    "outputId": "d10a4b29-384f-4548-da33-ea9d75cabc7a"
   },
   "outputs": [
    {
     "name": "stdout",
     "output_type": "stream",
     "text": [
      "<class 'pandas.core.frame.DataFrame'>\n",
      "RangeIndex: 404290 entries, 0 to 404289\n",
      "Data columns (total 6 columns):\n",
      "id              404290 non-null int64\n",
      "qid1            404290 non-null int64\n",
      "qid2            404290 non-null int64\n",
      "question1       404289 non-null object\n",
      "question2       404288 non-null object\n",
      "is_duplicate    404290 non-null int64\n",
      "dtypes: int64(4), object(2)\n",
      "memory usage: 18.5+ MB\n"
     ]
    }
   ],
   "source": [
    "df_train.info()"
   ]
  },
  {
   "cell_type": "code",
   "execution_count": 233,
   "metadata": {
    "colab": {
     "base_uri": "https://localhost:8080/",
     "height": 374
    },
    "colab_type": "code",
    "id": "RLDMsFe1tV2G",
    "outputId": "6d1bfe51-b402-4035-c700-d5e2340d6344"
   },
   "outputs": [
    {
     "data": {
      "text/plain": [
       "<matplotlib.axes._subplots.AxesSubplot at 0x7fe58514d7b8>"
      ]
     },
     "execution_count": 233,
     "metadata": {
      "tags": []
     },
     "output_type": "execute_result"
    },
    {
     "data": {
      "image/png": "[encoded data removed]",
      "text/plain": [
       "<matplotlib.figure.Figure at 0x7fe4fc2c20f0>"
      ]
     },
     "metadata": {
      "tags": []
     },
     "output_type": "display_data"
    }
   ],
   "source": [
    "# Class distribution\n",
    "df_train.groupby(\"is_duplicate\")['id'].count().plot.bar()"
   ]
  },
  {
   "cell_type": "code",
   "execution_count": 0,
   "metadata": {
    "colab": {},
    "colab_type": "code",
    "id": "hLoMFoqhQDEm"
   },
   "outputs": [],
   "source": [
    "# df_test = pd.read_csv('test.csv', encoding='utf-8', low_memory=False)"
   ]
  },
  {
   "cell_type": "code",
   "execution_count": 0,
   "metadata": {
    "colab": {},
    "colab_type": "code",
    "id": "SKxaX5_1Qi27"
   },
   "outputs": [],
   "source": [
    "# df_test.head()"
   ]
  },
  {
   "cell_type": "code",
   "execution_count": 16,
   "metadata": {
    "colab": {
     "base_uri": "https://localhost:8080/",
     "height": 102
    },
    "colab_type": "code",
    "id": "erfLE-vUSgmm",
    "outputId": "de0cbfae-e133-4b8f-bc84-4c156f8be209"
   },
   "outputs": [
    {
     "name": "stdout",
     "output_type": "stream",
     "text": [
      "[nltk_data] Downloading package punkt to /root/nltk_data...\n",
      "[nltk_data]   Unzipping tokenizers/punkt.zip.\n",
      "[nltk_data] Downloading package wordnet to /root/nltk_data...\n",
      "[nltk_data]   Unzipping corpora/wordnet.zip.\n"
     ]
    },
    {
     "data": {
      "text/plain": [
       "True"
      ]
     },
     "execution_count": 16,
     "metadata": {
      "tags": []
     },
     "output_type": "execute_result"
    }
   ],
   "source": [
    "from nltk.corpus import stopwords \n",
    "nltk.download('punkt')\n",
    "\n",
    "import string\n",
    "strippables = string.punctuation + string.whitespace\n",
    "\n",
    "from nltk.stem import WordNetLemmatizer\n",
    "lemmatizer = WordNetLemmatizer()\n",
    "\n",
    "from nltk.stem.snowball import SnowballStemmer\n",
    "stemmer = SnowballStemmer(\"english\")\n",
    "\n",
    "from nltk.tokenize import word_tokenize , TweetTokenizer\n",
    "tweet_tokenize = TweetTokenizer()\n",
    "\n",
    "nltk.download('wordnet')"
   ]
  },
  {
   "cell_type": "code",
   "execution_count": 0,
   "metadata": {
    "colab": {},
    "colab_type": "code",
    "id": "PqfceOm9SjFM"
   },
   "outputs": [],
   "source": [
    "stopWordList = set()\n",
    "\n",
    "with open('LSWList.txt', encoding='utf-8', errors=\"surrogateescape\") as f:\n",
    "    for line in f:\n",
    "        stringVal = repr(line)\n",
    "        # Remove all the special characters - data cleaning\n",
    "        stopWordList.add(stringVal.replace('\\\\n', '').strip(strippables).lower())"
   ]
  },
  {
   "cell_type": "code",
   "execution_count": 0,
   "metadata": {
    "colab": {},
    "colab_type": "code",
    "id": "oecLDcRJTGlz"
   },
   "outputs": [],
   "source": [
    "def tokenizeCustom(strVal):\n",
    "  strUpdated = []\n",
    "  stringCleaned = re.sub(\"[^a-zA-Z]\", \" \", str(strVal))\n",
    "  for word in tweet_tokenize.tokenize(stringCleaned):\n",
    "    if word not in stopWordList:\n",
    "#       newWord = lemmatizer.lemmatize(stemmer.stem(word.lower()))\n",
    "      newWord = word.lower()\n",
    "      if newWord != '':\n",
    "        strUpdated.append(newWord)\n",
    "  if len(strUpdated) == 0:\n",
    "    strUpdated.append(' ')\n",
    "\n",
    "  return strUpdated"
   ]
  },
  {
   "cell_type": "code",
   "execution_count": 236,
   "metadata": {
    "colab": {
     "base_uri": "https://localhost:8080/",
     "height": 34
    },
    "colab_type": "code",
    "id": "lWDR-kk1hKFV",
    "outputId": "43e7e298-5666-4109-ab3c-a907b7146822"
   },
   "outputs": [
    {
     "data": {
      "text/plain": [
       "[' ']"
      ]
     },
     "execution_count": 236,
     "metadata": {
      "tags": []
     },
     "output_type": "execute_result"
    }
   ],
   "source": [
    "tokenizeCustom('')"
   ]
  },
  {
   "cell_type": "code",
   "execution_count": 0,
   "metadata": {
    "colab": {},
    "colab_type": "code",
    "id": "QaskEBr7V88X"
   },
   "outputs": [],
   "source": [
    "# print(df_test.iloc[0][1])\n",
    "# print(re.sub(\"[^a-zA-Z]\", \" \", str(df_test.iloc[0][1])))"
   ]
  },
  {
   "cell_type": "code",
   "execution_count": 0,
   "metadata": {
    "colab": {},
    "colab_type": "code",
    "id": "fCRali86SA0R"
   },
   "outputs": [],
   "source": [
    "# df_test['question1_token'] = df_test.apply(lambda row: tokenizeCustom(row['question1']), axis=1)"
   ]
  },
  {
   "cell_type": "code",
   "execution_count": 0,
   "metadata": {
    "colab": {},
    "colab_type": "code",
    "id": "tHLsvhPnWwIF"
   },
   "outputs": [],
   "source": [
    "# df_test['question2_token'] = df_test.apply(lambda row: tokenizeCustom(row['question2']), axis=1)"
   ]
  },
  {
   "cell_type": "code",
   "execution_count": 0,
   "metadata": {
    "colab": {},
    "colab_type": "code",
    "id": "ap1M2FiXWzbF"
   },
   "outputs": [],
   "source": [
    "# df_train['question1_token'] = df_train.apply(lambda row: tokenizeCustom(row['question1']), axis=1)"
   ]
  },
  {
   "cell_type": "code",
   "execution_count": 0,
   "metadata": {
    "colab": {},
    "colab_type": "code",
    "id": "Smp4A8PEW6fE"
   },
   "outputs": [],
   "source": [
    "# df_train['question2_token'] = df_train.apply(lambda row: tokenizeCustom(row['question2']), axis=1)"
   ]
  },
  {
   "cell_type": "code",
   "execution_count": 0,
   "metadata": {
    "colab": {},
    "colab_type": "code",
    "id": "ewhhwCqgi9tJ"
   },
   "outputs": [],
   "source": [
    "train_question1 = []\n",
    "train_question2 = []\n",
    "for i, row in df_train.iterrows():\n",
    "  train_question1.append(tokenizeCustom(row['question1']))\n",
    "  train_question2.append(tokenizeCustom(row['question2']))"
   ]
  },
  {
   "cell_type": "code",
   "execution_count": 142,
   "metadata": {
    "colab": {
     "base_uri": "https://localhost:8080/",
     "height": 51
    },
    "colab_type": "code",
    "id": "WWWWn7iad5Q8",
    "outputId": "a093281a-da26-4d89-82b9-fde03e44cb56"
   },
   "outputs": [
    {
     "name": "stdout",
     "output_type": "stream",
     "text": [
      "404290\n",
      "404290\n"
     ]
    }
   ],
   "source": [
    "print(len(train_question1))\n",
    "print(len(train_question2))"
   ]
  },
  {
   "cell_type": "code",
   "execution_count": 143,
   "metadata": {
    "colab": {
     "base_uri": "https://localhost:8080/",
     "height": 51
    },
    "colab_type": "code",
    "id": "FLod-akOj_tP",
    "outputId": "e7a02ea7-702d-4ad2-a0c8-6f31a40321a7"
   },
   "outputs": [
    {
     "name": "stdout",
     "output_type": "stream",
     "text": [
      "Saving model...\n",
      "Done.\n"
     ]
    }
   ],
   "source": [
    "print('Saving model...')\n",
    "import pickle\n",
    "with open('train_question1.pkl', 'wb') as output:\n",
    "    pickle.dump(train_question1, output, pickle.HIGHEST_PROTOCOL)\n",
    "with open('train_question2.pkl', 'wb') as output:\n",
    "    pickle.dump(train_question2, output, pickle.HIGHEST_PROTOCOL)\n",
    "print('Done.')"
   ]
  },
  {
   "cell_type": "code",
   "execution_count": 0,
   "metadata": {
    "colab": {},
    "colab_type": "code",
    "id": "1H9O2_Ufkd38"
   },
   "outputs": [],
   "source": [
    "# test_question1 = []\n",
    "# test_question2 = []\n",
    "# for i, row in df_test.iterrows():\n",
    "#   test_question1.append(tokenizeCustom(row['question1']))\n",
    "#   test_question2.append(tokenizeCustom(row['question2']))"
   ]
  },
  {
   "cell_type": "code",
   "execution_count": 0,
   "metadata": {
    "colab": {},
    "colab_type": "code",
    "id": "PNm-JuNdlFXq"
   },
   "outputs": [],
   "source": [
    "# print('Saving model...')\n",
    "# import pickle\n",
    "# with open('test_question1.pkl', 'wb') as output:\n",
    "#     pickle.dump(test_question1, output, pickle.HIGHEST_PROTOCOL)\n",
    "# with open('test_question2.pkl', 'wb') as output:\n",
    "#     pickle.dump(test_question2, output, pickle.HIGHEST_PROTOCOL)\n",
    "# print('Done.')"
   ]
  },
  {
   "cell_type": "markdown",
   "metadata": {
    "colab_type": "text",
    "id": "v8kRFQWEQUcO"
   },
   "source": [
    "### Using TF-IDF to predict the similarity of the questions"
   ]
  },
  {
   "cell_type": "code",
   "execution_count": 0,
   "metadata": {
    "colab": {},
    "colab_type": "code",
    "id": "TLEqrTxiLLdm"
   },
   "outputs": [],
   "source": [
    "# Import the libraries\n",
    "from sklearn.feature_extraction.text import TfidfVectorizer\n",
    "vectorizer = TfidfVectorizer()\n",
    "\n",
    "# Compute cosine similarity\n",
    "def cosine_sim(text1, text2):\n",
    "  tfidf = vectorizer.fit_transform([text1, text2])\n",
    "  return ((tfidf * tfidf.T).A)[0,1]"
   ]
  },
  {
   "cell_type": "code",
   "execution_count": 0,
   "metadata": {
    "colab": {},
    "colab_type": "code",
    "id": "RXx8tPEeLNjF"
   },
   "outputs": [],
   "source": [
    "# Create the sentence values with the stop words removed\n",
    "questions1_tfidf = []\n",
    "for i in range(len(train_question1)):\n",
    "  questions1_tfidf.append(' '.join(train_question1[i]))\n",
    "  \n",
    "questions2_tfidf = []\n",
    "for i in range(len(train_question2)):\n",
    "  questions2_tfidf.append(' '.join(train_question2[i]))\n",
    "    "
   ]
  },
  {
   "cell_type": "code",
   "execution_count": 0,
   "metadata": {
    "colab": {},
    "colab_type": "code",
    "id": "8oOE7F8_Lf5e"
   },
   "outputs": [],
   "source": [
    "# Calculate the similarity scores\n",
    "tfidf_similarity_scores = []\n",
    "\n",
    "for i in range(len(questions1_tfidf)):\n",
    "  tfidf_similarity_scores.append(cosine_sim(questions1_tfidf[i], questions2_tfidf[i]))"
   ]
  },
  {
   "cell_type": "code",
   "execution_count": 0,
   "metadata": {
    "colab": {},
    "colab_type": "code",
    "id": "lJnyUj5vR8vd"
   },
   "outputs": [],
   "source": [
    "# Calculate the prediction value\n",
    "predictions = []\n",
    "for score in tfidf_similarity_scores:\n",
    "  if score >= 0.5:\n",
    "    predictions.append(1)\n",
    "  else:\n",
    "    predictions.append(0)"
   ]
  },
  {
   "cell_type": "code",
   "execution_count": 176,
   "metadata": {
    "colab": {
     "base_uri": "https://localhost:8080/",
     "height": 34
    },
    "colab_type": "code",
    "id": "V-ndng7gTrQR",
    "outputId": "091c72dc-aaf3-48c8-c778-be83538923ba"
   },
   "outputs": [
    {
     "name": "stdout",
     "output_type": "stream",
     "text": [
      "Accuracy score is 0.668166415197012\n"
     ]
    }
   ],
   "source": [
    "# Calculate the accuracy values\n",
    "accuracy = accuracy_score(df_train.is_duplicate[:], predictions)\n",
    "print(\"Accuracy score is {}\".format(accuracy))"
   ]
  },
  {
   "cell_type": "code",
   "execution_count": 177,
   "metadata": {
    "colab": {
     "base_uri": "https://localhost:8080/",
     "height": 68
    },
    "colab_type": "code",
    "id": "mEe5VKYJTnpt",
    "outputId": "18482163-6fba-47db-ff5a-8dabfea5850d"
   },
   "outputs": [
    {
     "name": "stdout",
     "output_type": "stream",
     "text": [
      "Confusion Matrix:\n",
      "[[182354  72673]\n",
      " [ 61484  87779]]\n"
     ]
    }
   ],
   "source": [
    "# Calculate the confusion matrix values\n",
    "print(\"Confusion Matrix:\")\n",
    "print(confusion_matrix(df_train.is_duplicate[:], predictions))"
   ]
  },
  {
   "cell_type": "code",
   "execution_count": 178,
   "metadata": {
    "colab": {
     "base_uri": "https://localhost:8080/",
     "height": 347
    },
    "colab_type": "code",
    "id": "SVyxG0tdLyzy",
    "outputId": "3e039116-5867-42c2-f153-1e52b0ca3e9c"
   },
   "outputs": [
    {
     "data": {
      "image/png": "[encoded data removed]",
      "text/plain": [
       "<matplotlib.figure.Figure at 0x7fe5ab8478d0>"
      ]
     },
     "metadata": {
      "tags": []
     },
     "output_type": "display_data"
    }
   ],
   "source": [
    "# Plot the scores distribution\n",
    "plt.hist(Tfidf_scores, bins=100)\n",
    "plt.show()"
   ]
  },
  {
   "cell_type": "code",
   "execution_count": 0,
   "metadata": {
    "colab": {},
    "colab_type": "code",
    "id": "4SZsb6MClLVd"
   },
   "outputs": [],
   "source": [
    "# !cp -r *.pkl /content/gdrive/My\\ Drive/MS-CS/DS/"
   ]
  },
  {
   "cell_type": "code",
   "execution_count": 0,
   "metadata": {
    "colab": {},
    "colab_type": "code",
    "id": "y2f0STn8Zb2l"
   },
   "outputs": [],
   "source": [
    "# !cp -r /content/gdrive/My\\ Drive/MS-CS/DS/*.pkl ."
   ]
  },
  {
   "cell_type": "code",
   "execution_count": 32,
   "metadata": {
    "colab": {
     "base_uri": "https://localhost:8080/",
     "height": 238
    },
    "colab_type": "code",
    "id": "a6NhHWgFkL4R",
    "outputId": "27994df1-2a8f-48bb-86b7-c685b0698621"
   },
   "outputs": [
    {
     "name": "stdout",
     "output_type": "stream",
     "text": [
      "total 926608\n",
      "drwxr-xr-x 1 root root      4096 Dec  8 02:34 .\n",
      "drwxr-xr-x 1 root root      4096 Dec  8 02:31 ..\n",
      "drwxr-xr-x 1 root root      4096 Dec  5 17:39 .config\n",
      "drwx------ 3 root root      4096 Dec  8 02:33 gdrive\n",
      "-rw------- 1 root root      4171 Dec  8 02:33 LSWList.txt\n",
      "drwxr-xr-x 2 root root      4096 Dec  5 17:39 sample_data\n",
      "-rw------- 1 root root 477592983 Dec  8 02:33 test.csv\n",
      "-rw------- 1 root root 183652316 Dec  8 02:34 test_question1.pkl\n",
      "-rw------- 1 root root 183301872 Dec  8 02:34 test_question2.pkl\n",
      "-rw------- 1 root root  63399110 Dec  8 02:33 train.csv\n",
      "-rw------- 1 root root  20396414 Dec  8 02:34 train_question1.pkl\n",
      "-rw------- 1 root root  20448802 Dec  8 02:34 train_question2.pkl\n"
     ]
    }
   ],
   "source": [
    "!ls -la"
   ]
  },
  {
   "cell_type": "code",
   "execution_count": 0,
   "metadata": {
    "colab": {},
    "colab_type": "code",
    "id": "nLpgM_eZbbOc"
   },
   "outputs": [],
   "source": [
    "train_question1 = pickle.load(open('train_question1.pkl', 'rb'))\n",
    "train_question2 = pickle.load(open('train_question2.pkl', 'rb'))"
   ]
  },
  {
   "cell_type": "code",
   "execution_count": 0,
   "metadata": {
    "colab": {},
    "colab_type": "code",
    "id": "4FbTUXPbcyz2"
   },
   "outputs": [],
   "source": [
    "question_list = train_question1 + train_question2"
   ]
  },
  {
   "cell_type": "markdown",
   "metadata": {
    "colab_type": "text",
    "id": "i1Wit_1RQ5FS"
   },
   "source": [
    "### Analysis of the minimum sentence length and maximum sentence length"
   ]
  },
  {
   "cell_type": "code",
   "execution_count": 0,
   "metadata": {
    "colab": {},
    "colab_type": "code",
    "id": "Du10QBUkQ0LU"
   },
   "outputs": [],
   "source": [
    "maxLength = 0\n",
    "minLength = 9999\n",
    "for q in question_list:\n",
    "  length = len(q)\n",
    "#   print(length)\n",
    "  if maxLength < max(maxLength, length):\n",
    "    maxLength = max(maxLength, length)\n",
    "  if minLength > min(minLength, length):\n",
    "    minLength = min(minLength, length)"
   ]
  },
  {
   "cell_type": "code",
   "execution_count": 43,
   "metadata": {
    "colab": {
     "base_uri": "https://localhost:8080/",
     "height": 34
    },
    "colab_type": "code",
    "id": "NY6R9T8iXevA",
    "outputId": "733d7ca8-0406-4c3a-ec12-5c1f6fbfe782"
   },
   "outputs": [
    {
     "name": "stdout",
     "output_type": "stream",
     "text": [
      "94 1\n"
     ]
    }
   ],
   "source": [
    "print(maxLength, minLength)"
   ]
  },
  {
   "cell_type": "markdown",
   "metadata": {
    "colab_type": "text",
    "id": "rqp9kmSkRDsS"
   },
   "source": [
    "### Keras Tokenizer for pre-processing of text values"
   ]
  },
  {
   "cell_type": "code",
   "execution_count": 46,
   "metadata": {
    "colab": {
     "base_uri": "https://localhost:8080/",
     "height": 34
    },
    "colab_type": "code",
    "id": "Dx456rGwRNA-",
    "outputId": "d4c0b9a2-5527-4ed2-a6fe-d1f37c7131e4"
   },
   "outputs": [
    {
     "name": "stderr",
     "output_type": "stream",
     "text": [
      "Using TensorFlow backend.\n"
     ]
    }
   ],
   "source": [
    "# Keras\n",
    "from keras.preprocessing.text import Tokenizer\n",
    "from keras.preprocessing.sequence import pad_sequences"
   ]
  },
  {
   "cell_type": "code",
   "execution_count": 0,
   "metadata": {
    "colab": {},
    "colab_type": "code",
    "id": "mQ3CE5MMVeov"
   },
   "outputs": [],
   "source": [
    "# Setting vocab size of 50,000 and tokenizing the data\n",
    "vocabulary_size = 20000\n",
    "tokenizer = Tokenizer(num_words= vocabulary_size)\n",
    "tokenizer.fit_on_texts(question_list)"
   ]
  },
  {
   "cell_type": "code",
   "execution_count": 0,
   "metadata": {
    "colab": {},
    "colab_type": "code",
    "id": "sjqs4nEkW3Dz"
   },
   "outputs": [],
   "source": [
    "# Generating the sequence values and padding to a length of 100\n",
    "sequence1 = tokenizer.texts_to_sequences(train_question1)\n",
    "data_q1 = pad_sequences(sequence1, maxlen=100)"
   ]
  },
  {
   "cell_type": "code",
   "execution_count": 0,
   "metadata": {
    "colab": {},
    "colab_type": "code",
    "id": "6sP5IwLdWphv"
   },
   "outputs": [],
   "source": [
    "# Generating the sequence values and padding to a length of 100\n",
    "sequence2 = tokenizer.texts_to_sequences(train_question2)\n",
    "data_q2 = pad_sequences(sequence2, maxlen=100)"
   ]
  },
  {
   "cell_type": "code",
   "execution_count": 50,
   "metadata": {
    "colab": {
     "base_uri": "https://localhost:8080/",
     "height": 187
    },
    "colab_type": "code",
    "id": "m0KvJy6XbtPr",
    "outputId": "fb20fd3a-f84d-4e1c-e875-25f9913754cf"
   },
   "outputs": [
    {
     "data": {
      "text/plain": [
       "array([   0,    0,    0,    0,    0,    0,    0,    0,    0,    0,    0,\n",
       "          0,    0,    0,    0,    0,    0,    0,    0,    0,    0,    0,\n",
       "          0,    0,    0,    0,    0,    0,    0,    0,    0,    0,    0,\n",
       "          0,    0,    0,    0,    0,    0,    0,    0,    0,    0,    0,\n",
       "          0,    0,    0,    0,    0,    0,    0,    0,    0,    0,    0,\n",
       "          0,    0,    0,    0,    0,    0,    0,    0,    0,    0,    0,\n",
       "          0,    0,    0,    0,    0,    0,    0,    0,    0,    0,    0,\n",
       "          0,    0,    0,    0,    0,    0,    0,    0,    0,    0,    0,\n",
       "          0,    0,    0,    0,    3,    2,  500, 1706,  284, 6355,  306,\n",
       "        629], dtype=int32)"
      ]
     },
     "execution_count": 50,
     "metadata": {
      "tags": []
     },
     "output_type": "execute_result"
    }
   ],
   "source": [
    "# Vectorized data\n",
    "data_q1[1000]"
   ]
  },
  {
   "cell_type": "markdown",
   "metadata": {
    "colab_type": "text",
    "id": "OtPmOvjURvnV"
   },
   "source": [
    "### Loading the glove embeddings for the list of words in the dataset"
   ]
  },
  {
   "cell_type": "markdown",
   "metadata": {
    "colab_type": "text",
    "id": "LUFjhUX2wMf-"
   },
   "source": [
    "Link to glove file http://nlp.stanford.edu/data/glove.6B.zip"
   ]
  },
  {
   "cell_type": "code",
   "execution_count": 0,
   "metadata": {
    "colab": {},
    "colab_type": "code",
    "id": "I9tn0mwRcdl-"
   },
   "outputs": [],
   "source": [
    "! cp gdrive/My\\ Drive/MS-CS/SMDM/glove.6B.zip glove.6B.zip"
   ]
  },
  {
   "cell_type": "code",
   "execution_count": 52,
   "metadata": {
    "colab": {
     "base_uri": "https://localhost:8080/",
     "height": 102
    },
    "colab_type": "code",
    "id": "j68La0NgcfQ_",
    "outputId": "94459e99-e08c-4d22-b95b-cda8e39ed881"
   },
   "outputs": [
    {
     "name": "stdout",
     "output_type": "stream",
     "text": [
      "Archive:  glove.6B.zip\n",
      "  inflating: glove.6B.50d.txt        \n",
      "  inflating: glove.6B.100d.txt       \n",
      "  inflating: glove.6B.200d.txt       \n",
      "  inflating: glove.6B.300d.txt       \n"
     ]
    }
   ],
   "source": [
    "!unzip glove.6B.zip"
   ]
  },
  {
   "cell_type": "code",
   "execution_count": 53,
   "metadata": {
    "colab": {
     "base_uri": "https://localhost:8080/",
     "height": 34
    },
    "colab_type": "code",
    "id": "YxiUGkdCca2C",
    "outputId": "6c7aad94-0aa4-4d51-ae02-69d211768d96"
   },
   "outputs": [
    {
     "name": "stdout",
     "output_type": "stream",
     "text": [
      "Loaded 400000 word vectors.\n"
     ]
    }
   ],
   "source": [
    "# Load embedding values\n",
    "embeddings_index = dict()\n",
    "f = open('glove.6B.100d.txt')\n",
    "for line in f:\n",
    "    values = line.split()\n",
    "    word = values[0]\n",
    "    coefs = np.asarray(values[1:], dtype='float32')\n",
    "    embeddings_index[word] = coefs\n",
    "f.close()\n",
    "print('Loaded %s word vectors.' % len(embeddings_index))"
   ]
  },
  {
   "cell_type": "code",
   "execution_count": 0,
   "metadata": {
    "colab": {},
    "colab_type": "code",
    "id": "VLYbV0FfcZ3-"
   },
   "outputs": [],
   "source": [
    "# Weight matrix for words\n",
    "embedding_matrix = np.zeros((vocabulary_size, 100))\n",
    "for word, index in tokenizer.word_index.items():\n",
    "    if index > vocabulary_size - 1:\n",
    "        break\n",
    "    else:\n",
    "        embedding_vector = embeddings_index.get(word)\n",
    "        if embedding_vector is not None:\n",
    "            embedding_matrix[index] = embedding_vector"
   ]
  },
  {
   "cell_type": "markdown",
   "metadata": {
    "colab_type": "text",
    "id": "TvFBLFYDSrd9"
   },
   "source": [
    "### Randomizing the dataset"
   ]
  },
  {
   "cell_type": "code",
   "execution_count": 0,
   "metadata": {
    "colab": {},
    "colab_type": "code",
    "id": "9hJqg7VfDFpe"
   },
   "outputs": [],
   "source": [
    "y_values = df_train.iloc[:,5].values"
   ]
  },
  {
   "cell_type": "code",
   "execution_count": 56,
   "metadata": {
    "colab": {
     "base_uri": "https://localhost:8080/",
     "height": 68
    },
    "colab_type": "code",
    "id": "oq3kAteEC192",
    "outputId": "1a9429b6-187d-401a-ea6b-305b7f4b679c"
   },
   "outputs": [
    {
     "name": "stdout",
     "output_type": "stream",
     "text": [
      "404290\n",
      "404290\n",
      "404290\n"
     ]
    }
   ],
   "source": [
    "print(len(train_question1))\n",
    "print(len(train_question2))\n",
    "print(len(y_values))"
   ]
  },
  {
   "cell_type": "code",
   "execution_count": 0,
   "metadata": {
    "colab": {},
    "colab_type": "code",
    "id": "FnyJd-JA11WW"
   },
   "outputs": [],
   "source": [
    "# Random Indices created to shuffle the data\n",
    "rand_indices = np.arange(len(train_question1))\n",
    "np.random.shuffle(rand_indices)"
   ]
  },
  {
   "cell_type": "code",
   "execution_count": 58,
   "metadata": {
    "colab": {
     "base_uri": "https://localhost:8080/",
     "height": 34
    },
    "colab_type": "code",
    "id": "eBMihIHODh3Q",
    "outputId": "0fbc2676-c59d-42a9-d55b-ff7b122b616a"
   },
   "outputs": [
    {
     "data": {
      "text/plain": [
       "array([351111, 110979, 150046, ...,  33961, 164176, 232522])"
      ]
     },
     "execution_count": 58,
     "metadata": {
      "tags": []
     },
     "output_type": "execute_result"
    }
   ],
   "source": [
    "rand_indices"
   ]
  },
  {
   "cell_type": "code",
   "execution_count": 59,
   "metadata": {
    "colab": {
     "base_uri": "https://localhost:8080/",
     "height": 187
    },
    "colab_type": "code",
    "id": "pRzR7VbnGMVm",
    "outputId": "7ed80912-4edf-4f48-f9db-0823926a3efd"
   },
   "outputs": [
    {
     "data": {
      "text/plain": [
       "array([   0,    0,    0,    0,    0,    0,    0,    0,    0,    0,    0,\n",
       "          0,    0,    0,    0,    0,    0,    0,    0,    0,    0,    0,\n",
       "          0,    0,    0,    0,    0,    0,    0,    0,    0,    0,    0,\n",
       "          0,    0,    0,    0,    0,    0,    0,    0,    0,    0,    0,\n",
       "          0,    0,    0,    0,    0,    0,    0,    0,    0,    0,    0,\n",
       "          0,    0,    0,    0,    0,    0,    0,    0,    0,    0,    0,\n",
       "          0,    0,    0,    0,    0,    0,    0,    0,    0,    0,    0,\n",
       "          0,    0,    0,    0,    0,    0,    0,    0,    0,    0,    0,\n",
       "          0,    0,    0,    0,    1,  508,  508, 1697,  154,  365,   92,\n",
       "          8], dtype=int32)"
      ]
     },
     "execution_count": 59,
     "metadata": {
      "tags": []
     },
     "output_type": "execute_result"
    }
   ],
   "source": [
    "data_q1[0]"
   ]
  },
  {
   "cell_type": "code",
   "execution_count": 0,
   "metadata": {
    "colab": {},
    "colab_type": "code",
    "id": "RfJjyoNEA1IY"
   },
   "outputs": [],
   "source": [
    "# Randomizing the data set\n",
    "data_q1 = data_q1[rand_indices]\n",
    "data_q2 = data_q2[rand_indices]\n",
    "y_values = y_values[rand_indices]"
   ]
  },
  {
   "cell_type": "code",
   "execution_count": 61,
   "metadata": {
    "colab": {
     "base_uri": "https://localhost:8080/",
     "height": 187
    },
    "colab_type": "code",
    "id": "-m1jOVZo-7-g",
    "outputId": "6cc12bee-e219-436f-e9d9-eb0b9f5b04f9"
   },
   "outputs": [
    {
     "data": {
      "text/plain": [
       "array([   0,    0,    0,    0,    0,    0,    0,    0,    0,    0,    0,\n",
       "          0,    0,    0,    0,    0,    0,    0,    0,    0,    0,    0,\n",
       "          0,    0,    0,    0,    0,    0,    0,    0,    0,    0,    0,\n",
       "          0,    0,    0,    0,    0,    0,    0,    0,    0,    0,    0,\n",
       "          0,    0,    0,    0,    0,    0,    0,    0,    0,    0,    0,\n",
       "          0,    0,    0,    0,    0,    0,    0,    0,    0,    0,    0,\n",
       "          0,    0,    0,    0,    0,    0,    0,    0,    0,    0,    0,\n",
       "          0,    0,    0,    0,    0,    0,    0,    0,    0,    0,    0,\n",
       "          0,   18, 1243,   32, 4210, 3621, 4789,   58,    3, 1117,    1,\n",
       "          9], dtype=int32)"
      ]
     },
     "execution_count": 61,
     "metadata": {
      "tags": []
     },
     "output_type": "execute_result"
    }
   ],
   "source": [
    "data_q1[0]"
   ]
  },
  {
   "cell_type": "markdown",
   "metadata": {
    "colab_type": "text",
    "id": "E_KH0qE4GtID"
   },
   "source": [
    "### Splitting data for train and test"
   ]
  },
  {
   "cell_type": "code",
   "execution_count": 0,
   "metadata": {
    "colab": {},
    "colab_type": "code",
    "id": "obFLynyaIpUu"
   },
   "outputs": [],
   "source": [
    "# Splitting the data to train and test\n",
    "q1_train = data_q1[40000:]\n",
    "q1_test = data_q1[:40000]\n",
    "\n",
    "q2_train = data_q2[40000:]\n",
    "q2_test = data_q2[:40000]\n",
    "\n",
    "y_values_train = y_values[40000:]\n",
    "y_values_test = y_values[:40000]"
   ]
  },
  {
   "cell_type": "code",
   "execution_count": 63,
   "metadata": {
    "colab": {
     "base_uri": "https://localhost:8080/",
     "height": 68
    },
    "colab_type": "code",
    "id": "bfG3htYIIza7",
    "outputId": "300dc4c9-3088-424c-e150-dbb894676927"
   },
   "outputs": [
    {
     "name": "stdout",
     "output_type": "stream",
     "text": [
      "Length of the data splits: \n",
      "364290\n",
      "40000\n"
     ]
    }
   ],
   "source": [
    "print('Length of the data splits: ')\n",
    "print(len(y_values_train))\n",
    "print(len(y_values_test))"
   ]
  },
  {
   "cell_type": "markdown",
   "metadata": {
    "colab_type": "text",
    "id": "cE0BUDs5EC22"
   },
   "source": [
    "# Keras Model"
   ]
  },
  {
   "cell_type": "markdown",
   "metadata": {
    "colab_type": "text",
    "id": "IiY9blujDcHc"
   },
   "source": [
    "### Import Keras libaries"
   ]
  },
  {
   "cell_type": "code",
   "execution_count": 0,
   "metadata": {
    "colab": {},
    "colab_type": "code",
    "id": "QsewpqM3Bz-6"
   },
   "outputs": [],
   "source": [
    "from keras.models import load_model\n",
    "from keras.layers import Input, Embedding, Conv1D, MaxPooling1D, LSTM, GRU, Lambda, merge, Dropout, Dense\n",
    "from keras.models import Model, Sequential\n",
    "from keras import backend as K\n",
    "from keras.optimizers import Adam\n",
    "from keras.losses import binary_crossentropy"
   ]
  },
  {
   "cell_type": "markdown",
   "metadata": {
    "colab_type": "text",
    "id": "KyK45uaLDhe0"
   },
   "source": [
    "### Glove based RNN "
   ]
  },
  {
   "cell_type": "code",
   "execution_count": 65,
   "metadata": {
    "colab": {
     "base_uri": "https://localhost:8080/",
     "height": 901
    },
    "colab_type": "code",
    "id": "tW24beh0Yu6l",
    "outputId": "2a60bde4-fb04-45ab-e11e-8efc5dfbaf79"
   },
   "outputs": [
    {
     "name": "stdout",
     "output_type": "stream",
     "text": [
      "_________________________________________________________________\n",
      "Layer (type)                 Output Shape              Param #   \n",
      "=================================================================\n",
      "embedding_1 (Embedding)      (None, 100, 100)          2000000   \n",
      "_________________________________________________________________\n",
      "conv1d_1 (Conv1D)            (None, 96, 64)            32064     \n",
      "_________________________________________________________________\n",
      "max_pooling1d_1 (MaxPooling1 (None, 24, 64)            0         \n",
      "_________________________________________________________________\n",
      "conv1d_2 (Conv1D)            (None, 20, 128)           41088     \n",
      "_________________________________________________________________\n",
      "max_pooling1d_2 (MaxPooling1 (None, 5, 128)            0         \n",
      "_________________________________________________________________\n",
      "lstm_1 (LSTM)                (None, 5, 256)            394240    \n",
      "_________________________________________________________________\n",
      "lstm_2 (LSTM)                (None, 5, 512)            1574912   \n",
      "_________________________________________________________________\n",
      "lstm_3 (LSTM)                (None, 256)               787456    \n",
      "_________________________________________________________________\n",
      "dense_1 (Dense)              (None, 2048)              526336    \n",
      "=================================================================\n",
      "Total params: 5,356,096\n",
      "Trainable params: 3,356,096\n",
      "Non-trainable params: 2,000,000\n",
      "_________________________________________________________________\n",
      "__________________________________________________________________________________________________\n",
      "Layer (type)                    Output Shape         Param #     Connected to                     \n",
      "==================================================================================================\n",
      "input_1 (InputLayer)            (None, 100)          0                                            \n",
      "__________________________________________________________________________________________________\n",
      "input_2 (InputLayer)            (None, 100)          0                                            \n",
      "__________________________________________________________________________________________________\n",
      "sequential_1 (Sequential)       (None, 2048)         5356096     input_1[0][0]                    \n",
      "                                                                 input_2[0][0]                    \n",
      "__________________________________________________________________________________________________\n",
      "lambda_1 (Lambda)               (None, 2048)         0           sequential_1[1][0]               \n",
      "                                                                 sequential_1[2][0]               \n",
      "__________________________________________________________________________________________________\n",
      "dense_2 (Dense)                 (None, 1024)         2098176     lambda_1[0][0]                   \n",
      "__________________________________________________________________________________________________\n",
      "dropout_1 (Dropout)             (None, 1024)         0           dense_2[0][0]                    \n",
      "__________________________________________________________________________________________________\n",
      "dense_3 (Dense)                 (None, 512)          524800      dropout_1[0][0]                  \n",
      "__________________________________________________________________________________________________\n",
      "dropout_2 (Dropout)             (None, 512)          0           dense_3[0][0]                    \n",
      "__________________________________________________________________________________________________\n",
      "dense_4 (Dense)                 (None, 1)            513         dropout_2[0][0]                  \n",
      "==================================================================================================\n",
      "Total params: 7,979,585\n",
      "Trainable params: 5,979,585\n",
      "Non-trainable params: 2,000,000\n",
      "__________________________________________________________________________________________________\n"
     ]
    }
   ],
   "source": [
    "#Create input variables\n",
    "input_shape = (100, )\n",
    "left_input = Input(input_shape)\n",
    "right_input = Input(input_shape)\n",
    "\n",
    "# Create the first model with 1D-CNN and LSTM\n",
    "model_glove = Sequential()\n",
    "\n",
    "# Use the embedding layer and initalize with glove weights\n",
    "model_glove.add(Embedding(vocabulary_size, 100, input_length=100, weights=[embedding_matrix], trainable=False))\n",
    "\n",
    "# 1D-Convloutional Layer to increase the speed of the application\n",
    "model_glove.add(Conv1D(64, 5, activation='relu'))\n",
    "model_glove.add(MaxPooling1D(pool_size=4))\n",
    "model_glove.add(Conv1D(128, 5, activation='relu'))\n",
    "model_glove.add(MaxPooling1D(pool_size=4))\n",
    "\n",
    "# Add LSTM Layer\n",
    "model_glove.add(LSTM(256, return_sequences = True))\n",
    "model_glove.add(LSTM(512, return_sequences = True))\n",
    "model_glove.add(LSTM(256, dropout=0.2))\n",
    "model_glove.add(Dense(2048, activation='sigmoid'))\n",
    "model_glove.summary()\n",
    "\n",
    "# Load for each of the input\n",
    "encoded_l_glove = model_glove(left_input)\n",
    "encoded_r_glove = model_glove(right_input)\n",
    "\n",
    "# Calculate the least absolute deviations (L1 Norm) for each tensor\n",
    "L1_layer_glove = Lambda(lambda tensors:K.abs(tensors[0] - tensors[1]))\n",
    "\n",
    "# Get the L1-NORM for both the input embedded variables\n",
    "L1_distance_glove = L1_layer_glove([encoded_l_glove, encoded_r_glove])\n",
    "\n",
    "# Fully Connected Layer with dropouts\n",
    "dense1_glove = Dense(1024,activation='relu')(L1_distance_glove)\n",
    "dropout1_glove = Dropout(0.2)(dense1_glove)\n",
    "\n",
    "# Fully Connected Layer with dropouts\n",
    "dense2_glove = Dense(512,activation='relu')(dropout1_glove)\n",
    "dropout2_glove = Dropout(0.2)(dense2_glove)\n",
    "\n",
    "# Generate the output value\n",
    "output_glove = Dense(1,activation='sigmoid')(dropout2_glove)\n",
    "\n",
    "# Initialize the model with inputs and outputs\n",
    "siamese_network_glove = Model(inputs=[left_input,right_input],outputs=output_glove)\n",
    "\n",
    "# Adam optimizer to get optimal values\n",
    "optimizer = Adam(0.0001)\n",
    "siamese_network_glove.compile(loss=\"binary_crossentropy\",optimizer=optimizer, metrics=['accuracy'])\n",
    "\n",
    "# Generate the finaly summary of the classifier\n",
    "siamese_network_glove.summary()"
   ]
  },
  {
   "cell_type": "markdown",
   "metadata": {
    "colab_type": "text",
    "id": "maS-IXl8WQlo"
   },
   "source": [
    "#### To check how the model trains for a very small dataset"
   ]
  },
  {
   "cell_type": "code",
   "execution_count": 66,
   "metadata": {
    "colab": {
     "base_uri": "https://localhost:8080/",
     "height": 374
    },
    "colab_type": "code",
    "id": "dUXy4SGYbDdf",
    "outputId": "6f6654ac-c4f5-47e8-accb-47ba13391835"
   },
   "outputs": [
    {
     "name": "stdout",
     "output_type": "stream",
     "text": [
      "Train on 1600 samples, validate on 400 samples\n",
      "Epoch 1/10\n",
      "1600/1600 [==============================] - 10s 6ms/step - loss: 0.6914 - acc: 0.6138 - val_loss: 0.6888 - val_acc: 0.6250\n",
      "Epoch 2/10\n",
      "1600/1600 [==============================] - 2s 1ms/step - loss: 0.6862 - acc: 0.6212 - val_loss: 0.6824 - val_acc: 0.6250\n",
      "Epoch 3/10\n",
      "1600/1600 [==============================] - 2s 1ms/step - loss: 0.6781 - acc: 0.6212 - val_loss: 0.6723 - val_acc: 0.6250\n",
      "Epoch 4/10\n",
      "1600/1600 [==============================] - 2s 1ms/step - loss: 0.6624 - acc: 0.6212 - val_loss: 0.6525 - val_acc: 0.6250\n",
      "Epoch 5/10\n",
      "1600/1600 [==============================] - 2s 1ms/step - loss: 0.6384 - acc: 0.6212 - val_loss: 0.6580 - val_acc: 0.6250\n",
      "Epoch 6/10\n",
      "1600/1600 [==============================] - 2s 1ms/step - loss: 0.6243 - acc: 0.6212 - val_loss: 0.6544 - val_acc: 0.6250\n",
      "Epoch 7/10\n",
      "1600/1600 [==============================] - 2s 1ms/step - loss: 0.6155 - acc: 0.6212 - val_loss: 0.6599 - val_acc: 0.6250\n",
      "Epoch 8/10\n",
      "1600/1600 [==============================] - 2s 1ms/step - loss: 0.6084 - acc: 0.6212 - val_loss: 0.6670 - val_acc: 0.6250\n",
      "Epoch 9/10\n",
      "1600/1600 [==============================] - 2s 1ms/step - loss: 0.5994 - acc: 0.6212 - val_loss: 0.6722 - val_acc: 0.6250\n",
      "Epoch 10/10\n",
      "1600/1600 [==============================] - 2s 1ms/step - loss: 0.5893 - acc: 0.6212 - val_loss: 0.6857 - val_acc: 0.6250\n"
     ]
    }
   ],
   "source": [
    "history_nn_glove = siamese_network_glove.fit([q1_train[:2000], q2_train[:2000]], y_values_train[:2000], validation_split=0.2, epochs = 10, batch_size=128)"
   ]
  },
  {
   "cell_type": "markdown",
   "metadata": {
    "colab_type": "text",
    "id": "rwRY4IN4WXM-"
   },
   "source": [
    "#### Running the model in complete dataset"
   ]
  },
  {
   "cell_type": "code",
   "execution_count": 67,
   "metadata": {
    "colab": {
     "base_uri": "https://localhost:8080/",
     "height": 204
    },
    "colab_type": "code",
    "id": "jnRAnEyaWLor",
    "outputId": "65f3e9cf-35d5-4af4-d3c7-7901ce63b77c"
   },
   "outputs": [
    {
     "name": "stdout",
     "output_type": "stream",
     "text": [
      "Train on 291432 samples, validate on 72858 samples\n",
      "Epoch 1/5\n",
      "291432/291432 [==============================] - 285s 979us/step - loss: 0.5952 - acc: 0.6665 - val_loss: 0.5839 - val_acc: 0.6754\n",
      "Epoch 2/5\n",
      "291432/291432 [==============================] - 285s 976us/step - loss: 0.5578 - acc: 0.7064 - val_loss: 0.5886 - val_acc: 0.6830\n",
      "Epoch 3/5\n",
      "291432/291432 [==============================] - 284s 974us/step - loss: 0.5304 - acc: 0.7304 - val_loss: 0.6031 - val_acc: 0.6913\n",
      "Epoch 4/5\n",
      "291432/291432 [==============================] - 283s 972us/step - loss: 0.5081 - acc: 0.7460 - val_loss: 0.6152 - val_acc: 0.6952\n",
      "Epoch 5/5\n",
      "291432/291432 [==============================] - 284s 974us/step - loss: 0.4904 - acc: 0.7589 - val_loss: 0.6358 - val_acc: 0.6889\n"
     ]
    }
   ],
   "source": [
    "history_nn_glove = siamese_network_glove.fit([q1_train, q2_train], y_values_train, validation_split=0.2, epochs = 5, batch_size=128)"
   ]
  },
  {
   "cell_type": "markdown",
   "metadata": {
    "colab_type": "text",
    "id": "NtDKx1_COOWE"
   },
   "source": [
    "### Plot the train summary"
   ]
  },
  {
   "cell_type": "code",
   "execution_count": 68,
   "metadata": {
    "colab": {
     "base_uri": "https://localhost:8080/",
     "height": 735
    },
    "colab_type": "code",
    "id": "3S4VsTLsOQZN",
    "outputId": "c9df755e-663e-4d79-c384-33534196bdd3"
   },
   "outputs": [
    {
     "data": {
      "image/png": "[encoded data removed]",
      "text/plain": [
       "<matplotlib.figure.Figure at 0x7fe5de8bfa20>"
      ]
     },
     "metadata": {
      "tags": []
     },
     "output_type": "display_data"
    },
    {
     "data": {
      "image/png": "[encoded data removed]",
      "text/plain": [
       "<matplotlib.figure.Figure at 0x7fe5df1288d0>"
      ]
     },
     "metadata": {
      "tags": []
     },
     "output_type": "display_data"
    }
   ],
   "source": [
    "import matplotlib.pyplot as plt\n",
    "\n",
    "# Plot training & validation accuracy values\n",
    "plt.plot(history_nn_glove.history['acc'])\n",
    "plt.plot(history_nn_glove.history['val_acc'])\n",
    "plt.title('Model accuracy')\n",
    "plt.ylabel('Accuracy')\n",
    "plt.xlabel('Epoch')\n",
    "plt.legend(['Train', 'Test'], loc='upper left')\n",
    "plt.show()\n",
    "\n",
    "# Plot training & validation loss values\n",
    "plt.plot(history_nn_glove.history['loss'])\n",
    "plt.plot(history_nn_glove.history['val_loss'])\n",
    "plt.title('Model loss')\n",
    "plt.ylabel('Loss')\n",
    "plt.xlabel('Epoch')\n",
    "plt.legend(['Train', 'Test'], loc='upper left')\n",
    "plt.show()"
   ]
  },
  {
   "cell_type": "code",
   "execution_count": 0,
   "metadata": {
    "colab": {},
    "colab_type": "code",
    "id": "DSqBOKXca156"
   },
   "outputs": [],
   "source": [
    "# Save the final siamese neural network as a file for later use\n",
    "siamese_network_glove.save('siamese_network_glove.h5')"
   ]
  },
  {
   "cell_type": "code",
   "execution_count": 0,
   "metadata": {
    "colab": {},
    "colab_type": "code",
    "id": "nNEKNXeybBgI"
   },
   "outputs": [],
   "source": [
    "!cp siamese_network_glove.h5 /content/gdrive/My\\ Drive/MS-CS/DS/siamese_network_glove.h5"
   ]
  },
  {
   "cell_type": "code",
   "execution_count": 191,
   "metadata": {
    "colab": {
     "base_uri": "https://localhost:8080/",
     "height": 34
    },
    "colab_type": "code",
    "id": "QTN8-RAodbfG",
    "outputId": "68d5c726-77f5-4095-ae3e-4c5c68a2b258"
   },
   "outputs": [
    {
     "name": "stdout",
     "output_type": "stream",
     "text": [
      "40000/40000 [==============================] - 50s 1ms/step\n"
     ]
    }
   ],
   "source": [
    "loss, acc = siamese_network_glove.evaluate([q1_test, q2_test], y_values_test)"
   ]
  },
  {
   "cell_type": "markdown",
   "metadata": {
    "colab_type": "text",
    "id": "oFUq99i9d1wu"
   },
   "source": [
    "#### Test Dataset Loss & Accuracy"
   ]
  },
  {
   "cell_type": "code",
   "execution_count": 192,
   "metadata": {
    "colab": {
     "base_uri": "https://localhost:8080/",
     "height": 51
    },
    "colab_type": "code",
    "id": "PKaRZABbdf6Z",
    "outputId": "fde463a0-11cf-4f11-b922-d2ff9c7b2b6d"
   },
   "outputs": [
    {
     "name": "stdout",
     "output_type": "stream",
     "text": [
      "0.6377576774239541\n",
      "0.6875\n"
     ]
    }
   ],
   "source": [
    "print(loss)\n",
    "print(acc)"
   ]
  },
  {
   "cell_type": "markdown",
   "metadata": {
    "colab_type": "text",
    "id": "sosujriwELSi"
   },
   "source": [
    "# Keras Model Word2Vec"
   ]
  },
  {
   "cell_type": "code",
   "execution_count": 71,
   "metadata": {
    "colab": {
     "base_uri": "https://localhost:8080/",
     "height": 51
    },
    "colab_type": "code",
    "id": "_6cdmAgvILaJ",
    "outputId": "d066e608-8323-448c-a4ec-93d24adeb0d7"
   },
   "outputs": [
    {
     "name": "stdout",
     "output_type": "stream",
     "text": [
      "[nltk_data] Downloading package punkt to /root/nltk_data...\n",
      "[nltk_data]   Package punkt is already up-to-date!\n"
     ]
    }
   ],
   "source": [
    "from gensim.models import Word2Vec\n",
    "\n",
    "import nltk\n",
    "nltk.download('punkt')\n",
    "\n",
    "from keras.preprocessing.text import text_to_word_sequence"
   ]
  },
  {
   "cell_type": "code",
   "execution_count": 0,
   "metadata": {
    "colab": {},
    "colab_type": "code",
    "id": "JsVoGjY4isBn"
   },
   "outputs": [],
   "source": [
    "q1_list = df_train.iloc[:,3].values"
   ]
  },
  {
   "cell_type": "code",
   "execution_count": 0,
   "metadata": {
    "colab": {},
    "colab_type": "code",
    "id": "1sMtOZsSi_F1"
   },
   "outputs": [],
   "source": [
    "q2_list = df_train.iloc[:,4].values"
   ]
  },
  {
   "cell_type": "code",
   "execution_count": 0,
   "metadata": {
    "colab": {},
    "colab_type": "code",
    "id": "PGpQCPEMjdXd"
   },
   "outputs": [],
   "source": [
    "question_list_w2v = np.append(q1_list, q2_list)"
   ]
  },
  {
   "cell_type": "code",
   "execution_count": 0,
   "metadata": {
    "colab": {},
    "colab_type": "code",
    "id": "ZtgMmuMIk8SC"
   },
   "outputs": [],
   "source": [
    "# To handle NaN issue\n",
    "question_list_w2v = []\n",
    "for item in q1_list:\n",
    "  if type(item) == str:\n",
    "    question_list_w2v.append(item)\n",
    "    \n",
    "for item in q2_list:\n",
    "  if type(item) == str:\n",
    "    question_list_w2v.append(item)"
   ]
  },
  {
   "cell_type": "code",
   "execution_count": 0,
   "metadata": {
    "colab": {},
    "colab_type": "code",
    "id": "J6l-faR2hLzr"
   },
   "outputs": [],
   "source": [
    "vocabulary_size=20000"
   ]
  },
  {
   "cell_type": "code",
   "execution_count": 78,
   "metadata": {
    "colab": {
     "base_uri": "https://localhost:8080/",
     "height": 34
    },
    "colab_type": "code",
    "id": "_Q83f-_gaNoi",
    "outputId": "70a22cc0-e6af-4400-c951-cc8620effab7"
   },
   "outputs": [
    {
     "name": "stdout",
     "output_type": "stream",
     "text": [
      "20000\n"
     ]
    }
   ],
   "source": [
    "print(vocabulary_size)"
   ]
  },
  {
   "cell_type": "code",
   "execution_count": 0,
   "metadata": {
    "colab": {},
    "colab_type": "code",
    "id": "dmdzuZPtg0nd"
   },
   "outputs": [],
   "source": [
    "tokenizer = Tokenizer(num_words= vocabulary_size)\n",
    "# tokenizer = Tokenizer(num_words= vocabulary_size, filters='!\"#$%&()*+,-./:;<=>?@[\\]^_`{|}~ ', lower=True, split=' ')\n",
    "tokenizer.fit_on_texts(question_list_w2v)"
   ]
  },
  {
   "cell_type": "code",
   "execution_count": 80,
   "metadata": {
    "colab": {
     "base_uri": "https://localhost:8080/",
     "height": 34
    },
    "colab_type": "code",
    "id": "FMSrGp2Qg5Ky",
    "outputId": "62aca9f7-189a-4b8c-fea3-74cfa8bc74e8"
   },
   "outputs": [
    {
     "data": {
      "text/plain": [
       "95596"
      ]
     },
     "execution_count": 80,
     "metadata": {
      "tags": []
     },
     "output_type": "execute_result"
    }
   ],
   "source": [
    "len(tokenizer.word_counts.items())"
   ]
  },
  {
   "cell_type": "code",
   "execution_count": 0,
   "metadata": {
    "colab": {},
    "colab_type": "code",
    "id": "NdMZZ5appsXg"
   },
   "outputs": [],
   "source": [
    "question_list_w2v_splits = []\n",
    "for item in question_list_w2v:\n",
    "  question_list_w2v_splits.append(text_to_word_sequence(item))"
   ]
  },
  {
   "cell_type": "code",
   "execution_count": 0,
   "metadata": {
    "colab": {},
    "colab_type": "code",
    "id": "0675LmwOoKUg"
   },
   "outputs": [],
   "source": [
    "model_w2v = Word2Vec(question_list_w2v_splits, size=100)"
   ]
  },
  {
   "cell_type": "markdown",
   "metadata": {
    "colab_type": "text",
    "id": "XUOuOcFjd4q-"
   },
   "source": [
    "Word2Vec capturing that 'cat' is a competitive exam instead of an animal due to the higher questions asked on the cat exams."
   ]
  },
  {
   "cell_type": "code",
   "execution_count": 83,
   "metadata": {
    "colab": {
     "base_uri": "https://localhost:8080/",
     "height": 275
    },
    "colab_type": "code",
    "id": "A1m-DrkJQeyr",
    "outputId": "91d03ec8-e78e-492c-caa9-2e3f938cc01d"
   },
   "outputs": [
    {
     "name": "stderr",
     "output_type": "stream",
     "text": [
      "/usr/local/lib/python3.6/dist-packages/ipykernel_launcher.py:1: DeprecationWarning: Call to deprecated `similar_by_word` (Method will be removed in 4.0.0, use self.wv.similar_by_word() instead).\n",
      "  \"\"\"Entry point for launching an IPython kernel.\n",
      "/usr/local/lib/python3.6/dist-packages/gensim/matutils.py:737: FutureWarning: Conversion of the second argument of issubdtype from `int` to `np.signedinteger` is deprecated. In future, it will be treated as `np.int64 == np.dtype(int).type`.\n",
      "  if np.issubdtype(vec.dtype, np.int):\n"
     ]
    },
    {
     "data": {
      "text/plain": [
       "[('gate', 0.6876502633094788),\n",
       " ('gre', 0.6758757829666138),\n",
       " ('gmat', 0.6740368008613586),\n",
       " ('clat', 0.6628749370574951),\n",
       " ('neet', 0.6590695381164551),\n",
       " ('xat', 0.6501356959342957),\n",
       " ('bitsat', 0.6403756141662598),\n",
       " ('upsc', 0.6266535520553589),\n",
       " ('jee', 0.617378294467926),\n",
       " ('toefl', 0.6167156100273132)]"
      ]
     },
     "execution_count": 83,
     "metadata": {
      "tags": []
     },
     "output_type": "execute_result"
    }
   ],
   "source": [
    "model_w2v.similar_by_word('cat', topn=10, restrict_vocab=None)"
   ]
  },
  {
   "cell_type": "code",
   "execution_count": 84,
   "metadata": {
    "colab": {
     "base_uri": "https://localhost:8080/",
     "height": 34
    },
    "colab_type": "code",
    "id": "nfGddoJ_pRC8",
    "outputId": "ee81e379-5cd2-43d6-9797-5954b7d5a55c"
   },
   "outputs": [
    {
     "name": "stdout",
     "output_type": "stream",
     "text": [
      "31237\n"
     ]
    }
   ],
   "source": [
    "words = list(model_w2v.wv.vocab)\n",
    "print(len(words))"
   ]
  },
  {
   "cell_type": "code",
   "execution_count": 0,
   "metadata": {
    "colab": {},
    "colab_type": "code",
    "id": "_BE6UoD7oYoS"
   },
   "outputs": [],
   "source": [
    "# Weight matrix for words in question list\n",
    "embedding_matrix_wv = np.zeros((vocabulary_size, 100))\n",
    "for word, index in tokenizer.word_index.items():\n",
    "    if index > vocabulary_size - 1:\n",
    "        break\n",
    "    else:\n",
    "        embedding_vector = model_w2v.wv[word]\n",
    "        if embedding_vector is not None:\n",
    "            embedding_matrix_wv[index] = embedding_vector"
   ]
  },
  {
   "cell_type": "markdown",
   "metadata": {
    "colab_type": "text",
    "id": "kJg3HuBiXd-8"
   },
   "source": [
    "### Keras model with Word2Vec Embeddings"
   ]
  },
  {
   "cell_type": "code",
   "execution_count": 89,
   "metadata": {
    "colab": {
     "base_uri": "https://localhost:8080/",
     "height": 867
    },
    "colab_type": "code",
    "id": "H4kZCwNnEJ8l",
    "outputId": "acd0ba42-3810-4217-e5d5-8727fa1f511f"
   },
   "outputs": [
    {
     "name": "stdout",
     "output_type": "stream",
     "text": [
      "_________________________________________________________________\n",
      "Layer (type)                 Output Shape              Param #   \n",
      "=================================================================\n",
      "embedding_2 (Embedding)      (None, 100, 100)          2000000   \n",
      "_________________________________________________________________\n",
      "conv1d_3 (Conv1D)            (None, 96, 64)            32064     \n",
      "_________________________________________________________________\n",
      "max_pooling1d_3 (MaxPooling1 (None, 24, 64)            0         \n",
      "_________________________________________________________________\n",
      "conv1d_4 (Conv1D)            (None, 20, 128)           41088     \n",
      "_________________________________________________________________\n",
      "max_pooling1d_4 (MaxPooling1 (None, 5, 128)            0         \n",
      "_________________________________________________________________\n",
      "lstm_4 (LSTM)                (None, 5, 256)            394240    \n",
      "_________________________________________________________________\n",
      "lstm_5 (LSTM)                (None, 5, 512)            1574912   \n",
      "_________________________________________________________________\n",
      "lstm_6 (LSTM)                (None, 256)               787456    \n",
      "=================================================================\n",
      "Total params: 4,829,760\n",
      "Trainable params: 2,829,760\n",
      "Non-trainable params: 2,000,000\n",
      "_________________________________________________________________\n",
      "__________________________________________________________________________________________________\n",
      "Layer (type)                    Output Shape         Param #     Connected to                     \n",
      "==================================================================================================\n",
      "input_3 (InputLayer)            (None, 100)          0                                            \n",
      "__________________________________________________________________________________________________\n",
      "input_4 (InputLayer)            (None, 100)          0                                            \n",
      "__________________________________________________________________________________________________\n",
      "sequential_2 (Sequential)       (None, 256)          4829760     input_3[0][0]                    \n",
      "                                                                 input_4[0][0]                    \n",
      "__________________________________________________________________________________________________\n",
      "lambda_2 (Lambda)               (None, 256)          0           sequential_2[1][0]               \n",
      "                                                                 sequential_2[2][0]               \n",
      "__________________________________________________________________________________________________\n",
      "dense_6 (Dense)                 (None, 1024)         263168      lambda_2[0][0]                   \n",
      "__________________________________________________________________________________________________\n",
      "dropout_3 (Dropout)             (None, 1024)         0           dense_6[0][0]                    \n",
      "__________________________________________________________________________________________________\n",
      "dense_7 (Dense)                 (None, 512)          524800      dropout_3[0][0]                  \n",
      "__________________________________________________________________________________________________\n",
      "dropout_4 (Dropout)             (None, 512)          0           dense_7[0][0]                    \n",
      "__________________________________________________________________________________________________\n",
      "dense_8 (Dense)                 (None, 1)            513         dropout_4[0][0]                  \n",
      "==================================================================================================\n",
      "Total params: 5,618,241\n",
      "Trainable params: 3,618,241\n",
      "Non-trainable params: 2,000,000\n",
      "__________________________________________________________________________________________________\n"
     ]
    }
   ],
   "source": [
    "#Create input variables\n",
    "input_shape = (100, )\n",
    "left_input = Input(input_shape)\n",
    "right_input = Input(input_shape)\n",
    "\n",
    "# Create the first model with 1D-CNN and LSTM\n",
    "model_keras_w2v = Sequential()\n",
    "\n",
    "# Use the embedding layer and initalize with word2vec weights\n",
    "model_keras_w2v.add(Embedding(vocabulary_size, 100, input_length=100, weights=[embedding_matrix_wv], trainable=False))\n",
    "\n",
    "# 1D-Convloutional Layer to increase the speed of the application\n",
    "model_keras_w2v.add(Conv1D(64, 5, activation='relu'))\n",
    "model_keras_w2v.add(MaxPooling1D(pool_size=4))\n",
    "model_keras_w2v.add(Conv1D(128, 5, activation='relu'))\n",
    "model_keras_w2v.add(MaxPooling1D(pool_size=4))\n",
    "\n",
    "# Add LSTM Layer\n",
    "model_keras_w2v.add(LSTM(256, return_sequences = True))\n",
    "model_keras_w2v.add(LSTM(512, return_sequences = True))\n",
    "model_keras_w2v.add(LSTM(256, dropout=0.2))\n",
    "model_glove.add(Dense(2048, activation='sigmoid'))\n",
    "model_keras_w2v.summary()\n",
    "\n",
    "# Load for each of the input\n",
    "encoded_l_w2v = model_keras_w2v(left_input)\n",
    "encoded_r_w2v = model_keras_w2v(right_input)\n",
    "\n",
    "# Calculate the least absolute deviations (L1 Norm) for each tensor\n",
    "L1_layer = Lambda(lambda tensors:K.abs(tensors[0] - tensors[1]))\n",
    "\n",
    "# Get the L1-NORM for both the input embedded variables\n",
    "L1_distance_w2v = L1_layer([encoded_l_w2v, encoded_r_w2v])\n",
    "\n",
    "# Fully Connected Layer with dropouts\n",
    "dense1_w2v = Dense(1024,activation='relu')(L1_distance_w2v)\n",
    "dropout1_w2v = Dropout(0.4)(dense1_w2v)\n",
    "\n",
    "# Fully Connected Layer with dropouts\n",
    "dense2_w2v = Dense(512,activation='relu')(dropout1_w2v)\n",
    "dropout2_w2v = Dropout(0.2)(dense2_w2v)\n",
    "\n",
    "# Generate the output value\n",
    "output_w2v = Dense(1,activation='sigmoid')(dropout2_w2v)\n",
    "\n",
    "# Initialize the model with inputs and outputs\n",
    "siamese_net_w2v = Model(inputs=[left_input,right_input],outputs=output_w2v)\n",
    "\n",
    "# Adam optimizer to get optimal values\n",
    "optimizer = Adam(0.0001)\n",
    "siamese_net_w2v.compile(loss=\"binary_crossentropy\",optimizer=optimizer, metrics=['accuracy'])\n",
    "\n",
    "# Generate the finaly summary of the classifier\n",
    "siamese_net_w2v.summary()"
   ]
  },
  {
   "cell_type": "markdown",
   "metadata": {
    "colab_type": "text",
    "id": "b2tSswWhX4Cy"
   },
   "source": [
    "#### Running the model on smaller dataset"
   ]
  },
  {
   "cell_type": "code",
   "execution_count": 90,
   "metadata": {
    "colab": {
     "base_uri": "https://localhost:8080/",
     "height": 374
    },
    "colab_type": "code",
    "id": "yJu7973pXyDh",
    "outputId": "1d6f0191-aa7a-415b-b63f-5c63db98ce68"
   },
   "outputs": [
    {
     "name": "stdout",
     "output_type": "stream",
     "text": [
      "Train on 1600 samples, validate on 400 samples\n",
      "Epoch 1/10\n",
      "1600/1600 [==============================] - 7s 4ms/step - loss: 0.6912 - acc: 0.6106 - val_loss: 0.6884 - val_acc: 0.6250\n",
      "Epoch 2/10\n",
      "1600/1600 [==============================] - 2s 997us/step - loss: 0.6840 - acc: 0.6212 - val_loss: 0.6792 - val_acc: 0.6250\n",
      "Epoch 3/10\n",
      "1600/1600 [==============================] - 2s 1ms/step - loss: 0.6672 - acc: 0.6212 - val_loss: 0.6591 - val_acc: 0.6250\n",
      "Epoch 4/10\n",
      "1600/1600 [==============================] - 2s 1ms/step - loss: 0.6341 - acc: 0.6212 - val_loss: 0.6636 - val_acc: 0.6250\n",
      "Epoch 5/10\n",
      "1600/1600 [==============================] - 2s 1ms/step - loss: 0.6237 - acc: 0.6212 - val_loss: 0.6628 - val_acc: 0.6250\n",
      "Epoch 6/10\n",
      "1600/1600 [==============================] - 2s 1ms/step - loss: 0.6123 - acc: 0.6212 - val_loss: 0.6635 - val_acc: 0.6250\n",
      "Epoch 7/10\n",
      "1600/1600 [==============================] - 2s 1ms/step - loss: 0.6062 - acc: 0.6212 - val_loss: 0.6766 - val_acc: 0.6250\n",
      "Epoch 8/10\n",
      "1600/1600 [==============================] - 2s 1ms/step - loss: 0.5983 - acc: 0.6212 - val_loss: 0.6759 - val_acc: 0.6250\n",
      "Epoch 9/10\n",
      "1600/1600 [==============================] - 2s 1ms/step - loss: 0.5879 - acc: 0.6212 - val_loss: 0.6885 - val_acc: 0.6250\n",
      "Epoch 10/10\n",
      "1600/1600 [==============================] - 2s 999us/step - loss: 0.5740 - acc: 0.6212 - val_loss: 0.7025 - val_acc: 0.6250\n"
     ]
    }
   ],
   "source": [
    "history_nn_w2v = siamese_net_w2v.fit([q1_train[:2000], q2_train[:2000]], y_values_train[:2000], validation_split=0.2, epochs = 10, batch_size=128)"
   ]
  },
  {
   "cell_type": "markdown",
   "metadata": {
    "colab_type": "text",
    "id": "hnZ-JS7iYB-W"
   },
   "source": [
    "#### Running the model on complete dataset"
   ]
  },
  {
   "cell_type": "code",
   "execution_count": 91,
   "metadata": {
    "colab": {
     "base_uri": "https://localhost:8080/",
     "height": 204
    },
    "colab_type": "code",
    "id": "Ynj-H5vwLAZU",
    "outputId": "32cee12d-5ea5-4115-cd09-e063fe1cab27"
   },
   "outputs": [
    {
     "name": "stdout",
     "output_type": "stream",
     "text": [
      "Train on 291432 samples, validate on 72858 samples\n",
      "Epoch 1/5\n",
      "291432/291432 [==============================] - 280s 960us/step - loss: 0.5928 - acc: 0.6677 - val_loss: 0.6373 - val_acc: 0.6395\n",
      "Epoch 2/5\n",
      "291432/291432 [==============================] - 280s 961us/step - loss: 0.5375 - acc: 0.7247 - val_loss: 0.6690 - val_acc: 0.6521\n",
      "Epoch 3/5\n",
      "291432/291432 [==============================] - 279s 958us/step - loss: 0.5121 - acc: 0.7437 - val_loss: 0.7230 - val_acc: 0.6437\n",
      "Epoch 4/5\n",
      "291432/291432 [==============================] - 280s 961us/step - loss: 0.4944 - acc: 0.7553 - val_loss: 0.6733 - val_acc: 0.6852\n",
      "Epoch 5/5\n",
      "291432/291432 [==============================] - 279s 957us/step - loss: 0.4806 - acc: 0.7640 - val_loss: 0.6801 - val_acc: 0.6812\n"
     ]
    }
   ],
   "source": [
    "history_nn_w2v = siamese_net_w2v.fit([q1_train, q2_train], y_values_train, validation_split=0.2, epochs = 5, batch_size=128)"
   ]
  },
  {
   "cell_type": "markdown",
   "metadata": {
    "colab_type": "text",
    "id": "yHuzVLvgOFxk"
   },
   "source": [
    "### Plot the train summary"
   ]
  },
  {
   "cell_type": "code",
   "execution_count": 92,
   "metadata": {
    "colab": {
     "base_uri": "https://localhost:8080/",
     "height": 735
    },
    "colab_type": "code",
    "id": "qV8ADWEU2rpY",
    "outputId": "f819b20b-14d1-4037-b8e5-92de507c3a42"
   },
   "outputs": [
    {
     "data": {
      "image/png": "[encoded data removed]",
      "text/plain": [
       "<matplotlib.figure.Figure at 0x7fe5b05da710>"
      ]
     },
     "metadata": {
      "tags": []
     },
     "output_type": "display_data"
    },
    {
     "data": {
      "image/png": "[encoded data removed]",
      "text/plain": [
       "<matplotlib.figure.Figure at 0x7fe5b062fb38>"
      ]
     },
     "metadata": {
      "tags": []
     },
     "output_type": "display_data"
    }
   ],
   "source": [
    "import matplotlib.pyplot as plt\n",
    "\n",
    "# Plot training & validation accuracy values\n",
    "plt.plot(history_nn_w2v.history['acc'])\n",
    "plt.plot(history_nn_w2v.history['val_acc'])\n",
    "plt.title('Model accuracy')\n",
    "plt.ylabel('Accuracy')\n",
    "plt.xlabel('Epoch')\n",
    "plt.legend(['Train', 'Test'], loc='upper left')\n",
    "plt.show()\n",
    "\n",
    "# Plot training & validation loss values\n",
    "plt.plot(history_nn_w2v.history['loss'])\n",
    "plt.plot(history_nn_w2v.history['val_loss'])\n",
    "plt.title('Model loss')\n",
    "plt.ylabel('Loss')\n",
    "plt.xlabel('Epoch')\n",
    "plt.legend(['Train', 'Test'], loc='upper left')\n",
    "plt.show()"
   ]
  },
  {
   "cell_type": "code",
   "execution_count": 0,
   "metadata": {
    "colab": {},
    "colab_type": "code",
    "id": "nWBwDfAqN-8H"
   },
   "outputs": [],
   "source": [
    "# Save the final siamese neural network as a file for later use\n",
    "siamese_net_w2v.save('siamese_net_w2v.h5')"
   ]
  },
  {
   "cell_type": "code",
   "execution_count": 188,
   "metadata": {
    "colab": {
     "base_uri": "https://localhost:8080/",
     "height": 34
    },
    "colab_type": "code",
    "id": "92FJ3Kz2ZO34",
    "outputId": "69a1d733-efee-49e1-be77-8b8194152343"
   },
   "outputs": [
    {
     "name": "stdout",
     "output_type": "stream",
     "text": [
      "40000/40000 [==============================] - 50s 1ms/step\n"
     ]
    }
   ],
   "source": [
    "loss, acc = siamese_net_w2v.evaluate([q1_test, q2_test], y_values_test)"
   ]
  },
  {
   "cell_type": "markdown",
   "metadata": {
    "colab_type": "text",
    "id": "CmSCxK5PdvIg"
   },
   "source": [
    "#### Test Dataset Loss & Accuracy"
   ]
  },
  {
   "cell_type": "code",
   "execution_count": 190,
   "metadata": {
    "colab": {
     "base_uri": "https://localhost:8080/",
     "height": 51
    },
    "colab_type": "code",
    "id": "R9O_te6PajIy",
    "outputId": "01ce5a48-e47f-4507-8f69-c01d4dfbeefc"
   },
   "outputs": [
    {
     "name": "stdout",
     "output_type": "stream",
     "text": [
      "0.6827462873935699\n",
      "0.682025\n"
     ]
    }
   ],
   "source": [
    "print(loss)\n",
    "print(acc)"
   ]
  },
  {
   "cell_type": "markdown",
   "metadata": {
    "colab_type": "text",
    "id": "GPezEdvnsx1a"
   },
   "source": [
    "# Generating the prediction value to feed to next classifier"
   ]
  },
  {
   "cell_type": "code",
   "execution_count": 0,
   "metadata": {
    "colab": {},
    "colab_type": "code",
    "id": "eRrXmWHFs79I"
   },
   "outputs": [],
   "source": [
    "pred_train_1 = siamese_network_glove.predict([q1_train, q2_train])"
   ]
  },
  {
   "cell_type": "code",
   "execution_count": 0,
   "metadata": {
    "colab": {},
    "colab_type": "code",
    "id": "48voY0qysfqi"
   },
   "outputs": [],
   "source": [
    "pred_train_2 = siamese_net_w2v.predict([q1_train, q2_train])"
   ]
  },
  {
   "cell_type": "code",
   "execution_count": 0,
   "metadata": {
    "colab": {},
    "colab_type": "code",
    "id": "gbQN1lKqti9m"
   },
   "outputs": [],
   "source": [
    "pred_train_features = []\n",
    "for i in range(len(pred_train_1)):\n",
    "  pred_val = []\n",
    "  pred_val.append(pred_train_1[i][0])\n",
    "  pred_val.append(pred_train_2[i][0])\n",
    "  pred_train_features.append(pred_val)"
   ]
  },
  {
   "cell_type": "code",
   "execution_count": 99,
   "metadata": {
    "colab": {
     "base_uri": "https://localhost:8080/",
     "height": 34
    },
    "colab_type": "code",
    "id": "ChRzRKsntNgE",
    "outputId": "868cdc6a-1bd9-4722-c694-f0f554fde0b8"
   },
   "outputs": [
    {
     "name": "stdout",
     "output_type": "stream",
     "text": [
      "[0.8789673, 0.9017826]\n"
     ]
    }
   ],
   "source": [
    "print(pred_train_features[0])"
   ]
  },
  {
   "cell_type": "code",
   "execution_count": 0,
   "metadata": {
    "colab": {},
    "colab_type": "code",
    "id": "CQpdSxf5vkAc"
   },
   "outputs": [],
   "source": [
    "pred_test_1 = siamese_network_glove.predict([q1_test, q2_test])\n",
    "pred_test_2 = siamese_net_w2v.predict([q1_test, q2_test])"
   ]
  },
  {
   "cell_type": "code",
   "execution_count": 0,
   "metadata": {
    "colab": {},
    "colab_type": "code",
    "id": "nErOozAkwkTR"
   },
   "outputs": [],
   "source": [
    "pred_test_features = []\n",
    "for i in range(len(pred_test_1)):\n",
    "  pred_val = []\n",
    "  pred_val.append(pred_test_1[i][0])\n",
    "  pred_val.append(pred_test_2[i][0])\n",
    "  pred_test_features.append(pred_val)"
   ]
  },
  {
   "cell_type": "markdown",
   "metadata": {
    "colab_type": "text",
    "id": "FYy5JMqMdfx2"
   },
   "source": [
    "# Random Forest Implementation as Second Classifier"
   ]
  },
  {
   "cell_type": "code",
   "execution_count": 105,
   "metadata": {
    "colab": {
     "base_uri": "https://localhost:8080/",
     "height": 119
    },
    "colab_type": "code",
    "id": "96eZVGzVx5cd",
    "outputId": "afebac00-2a1c-4cef-b11e-857302c35c39"
   },
   "outputs": [
    {
     "data": {
      "text/plain": [
       "RandomForestClassifier(bootstrap=True, class_weight=None, criterion='gini',\n",
       "            max_depth=None, max_features='auto', max_leaf_nodes=None,\n",
       "            min_impurity_decrease=0.0, min_impurity_split=None,\n",
       "            min_samples_leaf=1, min_samples_split=2,\n",
       "            min_weight_fraction_leaf=0.0, n_estimators=100, n_jobs=1,\n",
       "            oob_score=False, random_state=0, verbose=0, warm_start=False)"
      ]
     },
     "execution_count": 105,
     "metadata": {
      "tags": []
     },
     "output_type": "execute_result"
    }
   ],
   "source": [
    "from sklearn.ensemble import RandomForestClassifier\n",
    "clf = RandomForestClassifier(n_estimators=100, random_state=0)\n",
    "\n",
    "# Passing the predicted values from Glove and Word2Vec NN Models\n",
    "clf.fit(pred_train_features, y_values_train)"
   ]
  },
  {
   "cell_type": "code",
   "execution_count": 106,
   "metadata": {
    "colab": {
     "base_uri": "https://localhost:8080/",
     "height": 34
    },
    "colab_type": "code",
    "id": "LTn11j2oyJdy",
    "outputId": "001aa236-017a-420b-b92e-979ce280c408"
   },
   "outputs": [
    {
     "name": "stdout",
     "output_type": "stream",
     "text": [
      "[0.5047785 0.4952215]\n"
     ]
    }
   ],
   "source": [
    "# Important features\n",
    "print(clf.feature_importances_)"
   ]
  },
  {
   "cell_type": "markdown",
   "metadata": {
    "colab_type": "text",
    "id": "ucdEntBMM78A"
   },
   "source": [
    "### Test the classifier"
   ]
  },
  {
   "cell_type": "code",
   "execution_count": 0,
   "metadata": {
    "colab": {},
    "colab_type": "code",
    "id": "9kq1FeG-yMOg"
   },
   "outputs": [],
   "source": [
    "output_test_rf = clf.predict(pred_test_features)"
   ]
  },
  {
   "cell_type": "code",
   "execution_count": 114,
   "metadata": {
    "colab": {
     "base_uri": "https://localhost:8080/",
     "height": 34
    },
    "colab_type": "code",
    "id": "1xdxB1TI7HCF",
    "outputId": "67222bcb-3337-4ac2-86c0-a78981d90671"
   },
   "outputs": [
    {
     "data": {
      "text/plain": [
       "[0.07918495, 0.14132118]"
      ]
     },
     "execution_count": 114,
     "metadata": {
      "tags": []
     },
     "output_type": "execute_result"
    }
   ],
   "source": [
    "pred_test_features[0]"
   ]
  },
  {
   "cell_type": "code",
   "execution_count": 112,
   "metadata": {
    "colab": {
     "base_uri": "https://localhost:8080/",
     "height": 34
    },
    "colab_type": "code",
    "id": "G2ikN-6l66j_",
    "outputId": "b26d0489-9128-41f4-968f-fad386f1b3a0"
   },
   "outputs": [
    {
     "data": {
      "text/plain": [
       "0"
      ]
     },
     "execution_count": 112,
     "metadata": {
      "tags": []
     },
     "output_type": "execute_result"
    }
   ],
   "source": [
    "output_test_rf[0]"
   ]
  },
  {
   "cell_type": "code",
   "execution_count": 113,
   "metadata": {
    "colab": {
     "base_uri": "https://localhost:8080/",
     "height": 34
    },
    "colab_type": "code",
    "id": "zv_P0N-Q69E-",
    "outputId": "812c0b0d-8484-4a02-a7bd-8f3db09a39aa"
   },
   "outputs": [
    {
     "data": {
      "text/plain": [
       "0"
      ]
     },
     "execution_count": 113,
     "metadata": {
      "tags": []
     },
     "output_type": "execute_result"
    }
   ],
   "source": [
    "y_values_test[0]"
   ]
  },
  {
   "cell_type": "code",
   "execution_count": 110,
   "metadata": {
    "colab": {
     "base_uri": "https://localhost:8080/",
     "height": 51
    },
    "colab_type": "code",
    "id": "OA2aKfhS6tvd",
    "outputId": "023fd524-e34e-4bf0-f7cd-ce17b4739ef2"
   },
   "outputs": [
    {
     "name": "stdout",
     "output_type": "stream",
     "text": [
      "40000\n",
      "40000\n"
     ]
    }
   ],
   "source": [
    "print(len(output_test_rf))\n",
    "print(len(y_values_test))"
   ]
  },
  {
   "cell_type": "markdown",
   "metadata": {
    "colab_type": "text",
    "id": "0YjomXIPFb9H"
   },
   "source": [
    "#### Note: Having issue running the calculation of Score"
   ]
  },
  {
   "cell_type": "code",
   "execution_count": 180,
   "metadata": {
    "colab": {
     "base_uri": "https://localhost:8080/",
     "height": 34
    },
    "colab_type": "code",
    "id": "C1ZBqV8Dy6Yr",
    "outputId": "eadff728-51f0-46e0-94d9-6b2ed793b010"
   },
   "outputs": [
    {
     "name": "stdout",
     "output_type": "stream",
     "text": [
      "Accuracy score is 0.745375\n"
     ]
    }
   ],
   "source": [
    "# Final Score of the Random Forest Classifier\n",
    "# clf.score(output_test_rf, y_values_test)\n",
    "\n",
    "# Calculate the accuracy values\n",
    "accuracy = accuracy_score(output_test_rf, y_values_test)\n",
    "print(\"Accuracy score is {}\".format(accuracy))"
   ]
  },
  {
   "cell_type": "code",
   "execution_count": 196,
   "metadata": {
    "colab": {
     "base_uri": "https://localhost:8080/",
     "height": 68
    },
    "colab_type": "code",
    "id": "xNG0KnXnes7p",
    "outputId": "0497c521-4fec-4214-8543-8439e20920b0"
   },
   "outputs": [
    {
     "name": "stdout",
     "output_type": "stream",
     "text": [
      "Confusion Matrix:\n",
      "[[20129  4998]\n",
      " [ 5187  9686]]\n"
     ]
    }
   ],
   "source": [
    "# Calculate the confusion matrix values\n",
    "print(\"Confusion Matrix:\")\n",
    "print(confusion_matrix(output_test_rf, y_values_test))"
   ]
  },
  {
   "cell_type": "markdown",
   "metadata": {
    "colab_type": "text",
    "id": "1N1TZALP_qPm"
   },
   "source": [
    "# SVM Implementation as Second Classifier"
   ]
  },
  {
   "cell_type": "code",
   "execution_count": 0,
   "metadata": {
    "colab": {},
    "colab_type": "code",
    "id": "YJvL9Zk8_o-z"
   },
   "outputs": [],
   "source": [
    "from sklearn import svm\n",
    "\n",
    "clf_svm = svm.SVC(kernel = 'rbf', random_state = 0)"
   ]
  },
  {
   "cell_type": "markdown",
   "metadata": {
    "colab_type": "text",
    "id": "0XrYVyPJMzP-"
   },
   "source": [
    "### Train the classifier"
   ]
  },
  {
   "cell_type": "code",
   "execution_count": 181,
   "metadata": {
    "colab": {
     "base_uri": "https://localhost:8080/",
     "height": 85
    },
    "colab_type": "code",
    "id": "7H-gIpf8MDWQ",
    "outputId": "d07c08dc-0f73-4102-df55-c6e522620792"
   },
   "outputs": [
    {
     "data": {
      "text/plain": [
       "SVC(C=1.0, cache_size=200, class_weight=None, coef0=0.0,\n",
       "  decision_function_shape='ovr', degree=3, gamma='auto', kernel='rbf',\n",
       "  max_iter=-1, probability=False, random_state=0, shrinking=True,\n",
       "  tol=0.001, verbose=False)"
      ]
     },
     "execution_count": 181,
     "metadata": {
      "tags": []
     },
     "output_type": "execute_result"
    }
   ],
   "source": [
    "clf_svm.fit(pred_train_features[:50000], y_values_train[:50000])"
   ]
  },
  {
   "cell_type": "markdown",
   "metadata": {
    "colab_type": "text",
    "id": "iIeBWVrRM2Bo"
   },
   "source": [
    "### Test the classifier "
   ]
  },
  {
   "cell_type": "code",
   "execution_count": 0,
   "metadata": {
    "colab": {},
    "colab_type": "code",
    "id": "9t9yasjhAotP"
   },
   "outputs": [],
   "source": [
    "output_test_svm = clf_svm.predict(pred_test_features)"
   ]
  },
  {
   "cell_type": "code",
   "execution_count": 183,
   "metadata": {
    "colab": {
     "base_uri": "https://localhost:8080/",
     "height": 34
    },
    "colab_type": "code",
    "id": "taPy77FE8GP3",
    "outputId": "7b088385-e513-461f-f19d-29396029a0d9"
   },
   "outputs": [
    {
     "data": {
      "text/plain": [
       "[0.5209004, 0.020303784]"
      ]
     },
     "execution_count": 183,
     "metadata": {
      "tags": []
     },
     "output_type": "execute_result"
    }
   ],
   "source": [
    "pred_test_features[100]"
   ]
  },
  {
   "cell_type": "code",
   "execution_count": 132,
   "metadata": {
    "colab": {
     "base_uri": "https://localhost:8080/",
     "height": 34
    },
    "colab_type": "code",
    "id": "HnYUaDUu8BFC",
    "outputId": "88e41540-7a69-4258-c6fb-8bdb0a2a204b"
   },
   "outputs": [
    {
     "data": {
      "text/plain": [
       "0"
      ]
     },
     "execution_count": 132,
     "metadata": {
      "tags": []
     },
     "output_type": "execute_result"
    }
   ],
   "source": [
    "output_test_svm[100]"
   ]
  },
  {
   "cell_type": "code",
   "execution_count": 133,
   "metadata": {
    "colab": {
     "base_uri": "https://localhost:8080/",
     "height": 34
    },
    "colab_type": "code",
    "id": "SQ3Es5yh8EWp",
    "outputId": "d18eec82-0217-459c-e799-bea7d6b0767f"
   },
   "outputs": [
    {
     "data": {
      "text/plain": [
       "0"
      ]
     },
     "execution_count": 133,
     "metadata": {
      "tags": []
     },
     "output_type": "execute_result"
    }
   ],
   "source": [
    "y_values_test[100]"
   ]
  },
  {
   "cell_type": "markdown",
   "metadata": {
    "colab_type": "text",
    "id": "mj6mAkSaFSQL"
   },
   "source": [
    "#### Note: Having issue running the calculation of Score"
   ]
  },
  {
   "cell_type": "code",
   "execution_count": 194,
   "metadata": {
    "colab": {
     "base_uri": "https://localhost:8080/",
     "height": 34
    },
    "colab_type": "code",
    "id": "Ku9y_MQ3ApYZ",
    "outputId": "a13c17d9-570f-4535-8f77-ec2a9d7d6602"
   },
   "outputs": [
    {
     "name": "stdout",
     "output_type": "stream",
     "text": [
      "Accuracy score is 0.752425\n"
     ]
    }
   ],
   "source": [
    "# Final Score of the SVM\n",
    "# clf_svm.score(output_test_svm, y_values_test)\n",
    "\n",
    "# Calculate the accuracy values\n",
    "accuracy = accuracy_score(output_test_svm, y_values_test)\n",
    "print(\"Accuracy score is {}\".format(accuracy))"
   ]
  },
  {
   "cell_type": "code",
   "execution_count": 195,
   "metadata": {
    "colab": {
     "base_uri": "https://localhost:8080/",
     "height": 68
    },
    "colab_type": "code",
    "id": "t0gWMhn2egQc",
    "outputId": "0fd543d6-68d8-42a6-831c-be9c66bf7a49"
   },
   "outputs": [
    {
     "name": "stdout",
     "output_type": "stream",
     "text": [
      "Confusion Matrix:\n",
      "[[20135  4722]\n",
      " [ 5181  9962]]\n"
     ]
    }
   ],
   "source": [
    "# Calculate the confusion matrix values\n",
    "print(\"Confusion Matrix:\")\n",
    "print(confusion_matrix(output_test_svm, y_values_test))"
   ]
  },
  {
   "cell_type": "markdown",
   "metadata": {
    "colab_type": "text",
    "id": "5mIoRa5Rg5lQ"
   },
   "source": [
    "**Doc2Vec Similarity Calculation**\n",
    "\n",
    "*Note: Additional analysis done on dataset for future enhancements*"
   ]
  },
  {
   "cell_type": "code",
   "execution_count": 0,
   "metadata": {
    "colab": {},
    "colab_type": "code",
    "id": "VIUfwzGdg9G9"
   },
   "outputs": [],
   "source": [
    "from gensim.models import Doc2Vec\n",
    "from gensim.models.doc2vec import TaggedDocument\n",
    "\n",
    "doc_dataset = []\n",
    "for i in range(len(q1_list)):\n",
    "  if type(q1_list[i]) == str:\n",
    "    doc_dataset.append(TaggedDocument(q1_list[i].split(), df_train[df_train.index == i].qid1))\n",
    "  if type(q2_list[i]) == str:\n",
    "    doc_dataset.append(TaggedDocument(q2_list[i].split(), df_train[df_train.index == i].qid2))"
   ]
  },
  {
   "cell_type": "code",
   "execution_count": 222,
   "metadata": {
    "colab": {
     "base_uri": "https://localhost:8080/",
     "height": 34
    },
    "colab_type": "code",
    "id": "h7YTuSuTj0Az",
    "outputId": "f6bb63cf-424b-4085-8c02-ceb8f2551f13"
   },
   "outputs": [
    {
     "name": "stdout",
     "output_type": "stream",
     "text": [
      "808577\n"
     ]
    }
   ],
   "source": [
    "model_d2v = Doc2Vec()\n",
    "model_d2v.build_vocab(doc_dataset)\n",
    "\n",
    "print(model_d2v.corpus_count)\n",
    "\n",
    "model_d2v.train(doc_dataset, total_examples=model_d2v.corpus_count, epochs = 5)"
   ]
  },
  {
   "cell_type": "code",
   "execution_count": 225,
   "metadata": {
    "colab": {
     "base_uri": "https://localhost:8080/",
     "height": 275
    },
    "colab_type": "code",
    "id": "fniVtDn7pZY-",
    "outputId": "15bf4ec5-3ca8-4b1d-a8d1-1eac1ad78219"
   },
   "outputs": [
    {
     "name": "stderr",
     "output_type": "stream",
     "text": [
      "/usr/local/lib/python3.6/dist-packages/ipykernel_launcher.py:1: DeprecationWarning: Call to deprecated `most_similar` (Method will be removed in 4.0.0, use self.wv.most_similar() instead).\n",
      "  \"\"\"Entry point for launching an IPython kernel.\n",
      "/usr/local/lib/python3.6/dist-packages/gensim/matutils.py:737: FutureWarning: Conversion of the second argument of issubdtype from `int` to `np.signedinteger` is deprecated. In future, it will be treated as `np.int64 == np.dtype(int).type`.\n",
      "  if np.issubdtype(vec.dtype, np.int):\n"
     ]
    },
    {
     "data": {
      "text/plain": [
       "[('dog', 0.8167130947113037),\n",
       " ('nose', 0.7036893367767334),\n",
       " ('mom', 0.682818591594696),\n",
       " ('tongue', 0.6657232046127319),\n",
       " ('leg', 0.6540833115577698),\n",
       " ('ears', 0.6488602757453918),\n",
       " ('kitten', 0.6471840739250183),\n",
       " ('girlfriend', 0.633624792098999),\n",
       " ('eyesight', 0.6291268467903137),\n",
       " ('stomach', 0.628257691860199)]"
      ]
     },
     "execution_count": 225,
     "metadata": {
      "tags": []
     },
     "output_type": "execute_result"
    }
   ],
   "source": [
    "model_d2v.most_similar('cat')"
   ]
  },
  {
   "cell_type": "code",
   "execution_count": 223,
   "metadata": {
    "colab": {
     "base_uri": "https://localhost:8080/",
     "height": 68
    },
    "colab_type": "code",
    "id": "6HcRfsXFYYp3",
    "outputId": "8a16ec74-994b-4633-e268-b58b4619c515"
   },
   "outputs": [
    {
     "name": "stdout",
     "output_type": "stream",
     "text": [
      "              total        used        free      shared  buff/cache   available\n",
      "Mem:          13022        8393         174          69        4454        6122\n",
      "Swap:             0           0           0\n"
     ]
    }
   ],
   "source": [
    "# To check memory usage\n",
    "!free -m"
   ]
  }
 ],
 "metadata": {
  "accelerator": "GPU",
  "colab": {
   "collapsed_sections": [],
   "name": "DS-Project-Riya-Tyson.ipynb",
   "provenance": [],
   "version": "0.3.2"
  },
  "kernelspec": {
   "display_name": "Python 3",
   "language": "python",
   "name": "python3"
  },
  "language_info": {
   "codemirror_mode": {
    "name": "ipython",
    "version": 3
   },
   "file_extension": ".py",
   "mimetype": "text/x-python",
   "name": "python",
   "nbconvert_exporter": "python",
   "pygments_lexer": "ipython3",
   "version": "3.7.0"
  }
 },
 "nbformat": 4,
 "nbformat_minor": 1
}
